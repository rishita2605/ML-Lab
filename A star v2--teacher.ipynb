{
 "cells": [
  {
   "cell_type": "code",
   "execution_count": 1,
   "id": "0408dbc7",
   "metadata": {},
   "outputs": [],
   "source": [
    "class Node:\n",
    "    def __init__(self, value,coord):\n",
    "        self.value = value\n",
    "        self.coord = coord\n",
    "        self.g=0; self.h=0 #initialization\n",
    "        self.parent=None\n",
    "    \n",
    "    #This function may be used for debugging \n",
    "    def __str__(self):\n",
    "        s = f'{self.coord} f= {self.g+self.h:0.2f} \\\n",
    "        g={self.g:0.2f}, h= {self.h:0.2f}' \n",
    "        return s\n",
    "    \n",
    "    def move_cost(self, other):\n",
    "        return 1 \n"
   ]
  },
  {
   "cell_type": "code",
   "execution_count": 2,
   "id": "6cb14298",
   "metadata": {},
   "outputs": [],
   "source": [
    "def children(current_node,grid):\n",
    "    x,y = current_node.coord\n",
    "    links = [(x-1, y),(x,y-1),(x,y+1),(x+1,y),(x+1,y+1),(x-1,y-1),(x+1,y-1),(x-1,y+1)]\n",
    "             #(x+1,y+1),(x-1,y-1),(x+1,y-1),(x-1,y+1)#diagonal moves, add in later.\n",
    "    \n",
    "    valid_links=[link for row in grid for link in row if link.value!=0]\n",
    "    valid_children = [link for link in valid_links if link.coord in links]\n",
    "        \n",
    "    return valid_children"
   ]
  },
  {
   "cell_type": "code",
   "execution_count": 3,
   "id": "e7e11a1c",
   "metadata": {},
   "outputs": [],
   "source": [
    "# for 4 moves\n",
    "def manhattan(node, goal):\n",
    "    #manhattan distance \n",
    "    xN,yN = node.coord\n",
    "    xG,yG = goal.coord\n",
    "    h = abs(xN-xG) + abs(yN-yG)\n",
    "    return h\n",
    "\n",
    "# for 8 moves\n",
    "def diagonal(node, goal):\n",
    "    xN,yN = node.coord\n",
    "    xG,yG  = goal.coord\n",
    "    dx = abs(xN - xG)\n",
    "    dy = abs(yN- yG)\n",
    "    return (dx + dy) - min(dx, dy)"
   ]
  },
  {
   "cell_type": "code",
   "execution_count": 4,
   "id": "0106d3f9",
   "metadata": {},
   "outputs": [],
   "source": [
    "def aStar(start, goal, grid):\n",
    "    #The open and closed lists\n",
    "    OPEN = list(); CLOSED=list()\n",
    "    #Set current node to start node\n",
    "    current = start\n",
    "    #Add start node to the OPEN list\n",
    "    OPEN.append(current)\n",
    "    i=0 # for tracing purpose\n",
    "    \n",
    "    #While the open list is not empty\n",
    "    while OPEN:\n",
    "        print('Iteration ',i) # for tracing purpose\n",
    "        i+=1 # for tracing purpose\n",
    "        \n",
    "        #Find the item in the open set with the lowest g + h score\n",
    "        current = min(OPEN, key=lambda o:o.g + o.h)       \n",
    "        # print statements for tracing purpose\n",
    "        print('Current Node', current)\n",
    "        #print('Contents in OPEN: ')\n",
    "        # for n in OPEN: print(n)\n",
    "        # ***************** #\n",
    "        \n",
    "        #If it is the item we want, retrace the path and return it\n",
    "        if current == goal: # trace path by using parent link\n",
    "            path = []\n",
    "            while current.parent:\n",
    "                path.append(current)\n",
    "                current = current.parent\n",
    "            path.append(current)\n",
    "            return path[::-1] \n",
    "        \n",
    "        \n",
    "        #Move item from OPEN to CLOSED\n",
    "        OPEN.remove(current); CLOSED.append(current)\n",
    "        \n",
    "        #Loop through the node's children/siblings\n",
    "        for node in children(current,grid):\n",
    "            #If it is already in the closed list and updated cost is lower, move to OPEN list\n",
    "            if node in CLOSED:\n",
    "                new_cost = current.g + current.move_cost(node)\n",
    "                if new_cost<=node.g: \n",
    "                    OPEN.append(node);CLOSED.remove(node)\n",
    "\n",
    "            #Otherwise if it is already in the open set\n",
    "            elif node in OPEN:\n",
    "                #Check if we beat the G score \n",
    "                new_cost = current.g + current.move_cost(node)\n",
    "                if new_cost<=node.g:\n",
    "                    #If so, update the node to have a new parent\n",
    "                    node.g = new_cost\n",
    "                    node.parent = current\n",
    "            else:\n",
    "                #If it isn't in the open set, calculate the G and H score for the node      \n",
    "                node.g = current.g + current.move_cost(node)\n",
    "                node.h = diagonal(node, goal) \n",
    "                #Set the parent to our current item\n",
    "                node.parent = current\n",
    "                #Add it to the list\n",
    "                OPEN.append(node)\n",
    "    #If no path found\n",
    "    return None\n"
   ]
  },
  {
   "cell_type": "code",
   "execution_count": 5,
   "id": "021fb0e0",
   "metadata": {},
   "outputs": [],
   "source": [
    "#use case 3\n",
    "import numpy as np\n",
    "grid = np.ones((25,35), dtype=int)\n",
    "grid = grid.tolist()\n",
    "\n",
    "#Convert all the points to instances of node\n",
    "for x in range(len(grid)):\n",
    "    for y in range(len(grid[x])):\n",
    "        grid[x][y] = Node(grid[x][y],(x,y))\n",
    "        \n",
    "#25 by 35 use case 3\n",
    "start = grid[10][1]\n",
    "goal= grid[24][34]"
   ]
  },
  {
   "cell_type": "code",
   "execution_count": 6,
   "id": "3273353d",
   "metadata": {},
   "outputs": [],
   "source": [
    "#use case 2\n",
    "grid =[[1,1,0,0,0,1,1],\n",
    "       [1,1,1,1,0,1,1],\n",
    "       [1,1,1,1,0,1,1],\n",
    "       [1,1,1,1,0,1,1],\n",
    "       [1,1,0,0,0,1,1],\n",
    "       [1,1,1,1,1,1,1],\n",
    "       [1,1,1,1,1,1,1] ]\n",
    "\n",
    "#Convert all the points to instances of node\n",
    "for x in range(len(grid)):\n",
    "    for y in range(len(grid[x])):\n",
    "        grid[x][y] = Node(grid[x][y],(x,y))\n",
    "\n",
    "start = grid[3][1]\n",
    "goal = grid [5][5]\n"
   ]
  },
  {
   "cell_type": "code",
   "execution_count": 7,
   "id": "10208cb6",
   "metadata": {},
   "outputs": [],
   "source": [
    "#use case 1\n",
    "grid = [[1,1,1,1], #1-not blocked, 0 -  not blocked\n",
    "        [1,1,1,1],\n",
    "        [1,1,1,1],\n",
    "        [1,1,0,0],\n",
    "        [1,1,0,1]]\n",
    "\n",
    "#Convert all the points to instances of node\n",
    "for x in range(len(grid)):\n",
    "    for y in range(len(grid[x])):\n",
    "        grid[x][y] = Node(grid[x][y],(x,y))\n",
    "\n",
    "start = grid[4][0]\n",
    "goal = grid [0][3]"
   ]
  },
  {
   "cell_type": "code",
   "execution_count": 8,
   "id": "6cac8cca",
   "metadata": {},
   "outputs": [
    {
     "name": "stdout",
     "output_type": "stream",
     "text": [
      "Iteration  0\n",
      "Current Node (4, 0) f= 0.00         g=0.00, h= 0.00\n",
      "Iteration  1\n",
      "Current Node (3, 0) f= 4.00         g=1.00, h= 3.00\n",
      "Iteration  2\n",
      "Current Node (3, 1) f= 4.00         g=1.00, h= 3.00\n",
      "Iteration  3\n",
      "Current Node (2, 1) f= 4.00         g=2.00, h= 2.00\n",
      "Iteration  4\n",
      "Current Node (2, 2) f= 4.00         g=2.00, h= 2.00\n",
      "Iteration  5\n",
      "Current Node (1, 2) f= 4.00         g=3.00, h= 1.00\n",
      "Iteration  6\n",
      "Current Node (1, 3) f= 4.00         g=3.00, h= 1.00\n",
      "Iteration  7\n",
      "Current Node (0, 3) f= 4.00         g=4.00, h= 0.00\n",
      "** Path ** \n",
      "(4, 0) (3, 1) (2, 2) (1, 3) (0, 3) "
     ]
    }
   ],
   "source": [
    "#Driver Code\n",
    "path = aStar(start,goal ,grid)\n",
    "if path:\n",
    "    print(\"** Path ** \")\n",
    "    for p in path:\n",
    "        print(p.coord, end=\" \")\n",
    "else:\n",
    "    print(\"No path found\")"
   ]
  },
  {
   "cell_type": "code",
   "execution_count": 9,
   "id": "5aeebc04",
   "metadata": {},
   "outputs": [
    {
     "name": "stdout",
     "output_type": "stream",
     "text": [
      "** Path ** \n"
     ]
    },
    {
     "data": {
      "image/png": "[encoded data removed]",
      "text/plain": [
       "<Figure size 432x288 with 1 Axes>"
      ]
     },
     "metadata": {
      "needs_background": "light"
     },
     "output_type": "display_data"
    }
   ],
   "source": [
    "# Visualization  - for your understanding\n",
    "# not required for exam.\n",
    "#Obstacles\n",
    "invalid_links=[link.coord[::-1] for row in grid for link in row if link.value==0]\n",
    "import matplotlib.markers as mp\n",
    "import matplotlib.pyplot as plt\n",
    "import numpy as np\n",
    "\n",
    "a=[]\n",
    "plt.gca().invert_yaxis()\n",
    "\n",
    "yint = range(0,len(grid))\n",
    "xint = range(0, len(grid[0]))\n",
    "\n",
    "if path:\n",
    "    print(\"** Path ** \")\n",
    "    for p in path:\n",
    "        a.append(p.coord[::-1])\n",
    "    plt.plot(*zip(*a), marker='o', color='green')\n",
    "    #obstacles\n",
    "    if invalid_links:\n",
    "        plt.scatter(*zip(*invalid_links), marker='x', color='red')\n",
    "    plt.yticks(yint);plt.xticks(xint)\n",
    "    plt.grid(True)\n",
    "    plt.show()  \n"
   ]
  },
  {
   "cell_type": "code",
   "execution_count": 10,
   "id": "73d0c2c6",
   "metadata": {},
   "outputs": [
    {
     "data": {
      "image/png": "[encoded data removed]",
      "text/plain": [
       "<Figure size 432x288 with 2 Axes>"
      ]
     },
     "metadata": {
      "needs_background": "light"
     },
     "output_type": "display_data"
    }
   ],
   "source": [
    "import seaborn as sns\n",
    "\n",
    "f_vals = []\n",
    "for row in grid:\n",
    "    vals=[]\n",
    "    for col in row:\n",
    "        vals.append(col.g+col.h)\n",
    "    f_vals.append(vals)\n",
    "\n",
    "\n",
    "ax = sns.heatmap(f_vals, annot=True, fmt=\"d\")"
   ]
  },
  {
   "cell_type": "code",
   "execution_count": null,
   "id": "e1727187",
   "metadata": {},
   "outputs": [],
   "source": []
  }
 ],
 "metadata": {
  "kernelspec": {
   "display_name": "Python 3",
   "language": "python",
   "name": "python3"
  },
  "language_info": {
   "codemirror_mode": {
    "name": "ipython",
    "version": 3
   },
   "file_extension": ".py",
   "mimetype": "text/x-python",
   "name": "python",
   "nbconvert_exporter": "python",
   "pygments_lexer": "ipython3",
   "version": "3.8.8"
  }
 },
 "nbformat": 4,
 "nbformat_minor": 5
}
