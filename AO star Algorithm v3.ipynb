{
 "cells": [
  {
   "cell_type": "markdown",
   "id": "2b8bffb5",
   "metadata": {},
   "source": [
    "<h1> AO* Search Algorithm</h1>"
   ]
  },
  {
   "cell_type": "markdown",
   "id": "07e7db09",
   "metadata": {},
   "source": [
    "<h2>Pseudocode</h2>\n",
    "\n",
    "<pre>\n",
    "Initialization:\n",
    "    Set up initial graph with heuristic costs\n",
    "    Set terminal nodes as solved.\n",
    "    Set up and_edges\n",
    "    Set MAX(FUTILITY) = 1000\n",
    "\n",
    "Call aostar on head node\n",
    "Repeat until head is solved or number of iterations >MAX{\n",
    "    aostarUtil(head)\n",
    "}\n",
    "\n",
    "Function aostarUtil\n",
    "    #aostarUtil\n",
    "    if head is not visited{\n",
    "        #explore_head\n",
    "        For each and-arc or or-arc in from head{\n",
    "            if or-arc{\n",
    "            cost = h(node in arc) + EDGE cost\n",
    "            } else if and-arc{}\n",
    "            calculate cumulative cost of nodes from arc + EDGE costs\n",
    "            }\n",
    "        update head cost as minimum cost among the and-arc's and or-arc's\n",
    "        If head is solved, track the path \n",
    "        }   \n",
    "    }else \n",
    "    {\n",
    "        #find_best_move\n",
    "        find the best and-arc or or-arc from head node\n",
    "        Call aostarUtil recursively for each node in best and-arc or from node in or-arc\n",
    "        \n",
    "        #check update\n",
    "        Propagate the change of cost in the head node\n",
    "        \n",
    "    }\n",
    "</pre>"
   ]
  },
  {
   "cell_type": "markdown",
   "id": "bafaf2b3",
   "metadata": {},
   "source": [
    "<a href = 'https://drive.google.com/file/d/1RPXanmRIWqcnWTfZaVZQgg2LikY9s9De/view?usp=sharing'> heuristic map</a>"
   ]
  },
  {
   "cell_type": "code",
   "execution_count": 1,
   "id": "ee63412f",
   "metadata": {},
   "outputs": [],
   "source": [
    "class Node:\n",
    "    def __init__(self, index,cost,visited=False,is_solved=False,\n",
    "                 and_map=False, or_map=False):\n",
    "        self.index=index\n",
    "        self.cost=cost\n",
    "        self.visited=visited\n",
    "        self.is_solved=is_solved\n",
    "        self.and_map= and_map; self.or_map = or_map\n",
    "        self.children=None\n",
    "        self.path = False\n",
    "        \n",
    "    def __str__(self):\n",
    "        return f'{self.index}: {self.cost}'\n",
    "    \n",
    "    def set_children(self,ch):\n",
    "        self.children=ch\n",
    "        "
   ]
  },
  {
   "cell_type": "code",
   "execution_count": 2,
   "id": "eafbedd1",
   "metadata": {},
   "outputs": [],
   "source": [
    "#Use case 1\n",
    "adj=[]\n",
    "n_nodes = 10\n",
    "#heuristic costs\n",
    "cost=[None,0,6,12,9,5,7,1,4,4,1]\n",
    "children = {1:[2,3,4], 2:[5,6], 3:[7], 4:[8,9], 5:[10]}\n",
    "\n",
    "adj = [Node(i, cost[i]) for i in range(n_nodes+1)]\n",
    "for p,ch in children.items():\n",
    "    ch_nodes = [adj[c] for c in ch]\n",
    "    adj[p].set_children(ch_nodes)\n",
    "\n",
    "and_edges=[]\n",
    "\n",
    "ae = [adj[1],(adj[2],adj[3])]\n",
    "and_edges.append(ae)\n",
    "adj[2].and_map=True; adj[3].and_map = True\n",
    "ae = [adj[4],(adj[8],adj[9])]\n",
    "and_edges.append(ae)\n",
    "adj[8].and_map=True; adj[9].and_map = True\n",
    "\n",
    "for a in adj:\n",
    "    if not a.children: a.is_solved=True #set for all terminal nodes\n",
    "    if a.and_map==False: a.or_map=True\n",
    "    #print(f'{a.index} and {a.and_map} or {a.or_map}')"
   ]
  },
  {
   "cell_type": "code",
   "execution_count": 711,
   "id": "8c378d62",
   "metadata": {},
   "outputs": [],
   "source": [
    "\"\"\" #use case 2\n",
    "adj=[]\n",
    "\n",
    "n_nodes = 21\n",
    "#heuristic costs\n",
    "cost=[None,0,40,2,4,1,2,3,50,60,70,80,4,5,8,9,6,7,90,90,90,90]\n",
    "children = {1:[2,3,4], 2:[5,6,7], 3:[8,9], 4:[10,11], 5:[12,13], 6:[14,15], \n",
    "           7:[16,17], 8:[18], 9:[19], 10:[20], 11:[21] }\n",
    "#Note: the first node is dummy node\n",
    "adj = [Node(i, cost[i]) for i in range(n_nodes+1)]\n",
    "for p,ch in children.items():\n",
    "    ch_nodes = [adj[c] for c in ch]\n",
    "    adj[p].set_children(ch_nodes)\n",
    "\n",
    "and_edges=[]\n",
    "\n",
    "and_edges.append([adj[1], (adj[3], adj[4])])\n",
    "adj[3].and_map = adj[4].and_map = True\n",
    "\n",
    "and_edges.append([adj[2],(adj[5],adj[6], adj[7])])\n",
    "adj[5].and_map = adj[6].and_map = adj[7].and_map=True\n",
    "\n",
    "for a in adj:\n",
    "    if not a.children: a.is_solved=True\n",
    "    if a.and_map==False: a.or_map=True\n",
    "    #print(f'{a.index} and {a.and_map} or {a.or_map} solved {a.is_solved}') \"\"\""
   ]
  },
  {
   "cell_type": "code",
   "execution_count": 3,
   "id": "3b725e15",
   "metadata": {},
   "outputs": [],
   "source": [
    "#function to get all sibling nodes of a node part of an and-arc\n",
    "def get_andarc(c):\n",
    "    for idx, ae in and_edges:\n",
    "        if c in ae : return ae"
   ]
  },
  {
   "cell_type": "code",
   "execution_count": 4,
   "id": "981c7b6d",
   "metadata": {},
   "outputs": [],
   "source": [
    "def explore_head(head):\n",
    "    print(f'Head: {head.index}, Cost: {head.cost}')\n",
    "    head.path=True\n",
    "    head.visited=True; temp_cost = MAX; temp_map=[]\n",
    "    #check if head has any and edges\n",
    "    for c in head.children:\n",
    "        if c in temp_map: continue;\n",
    "        if c.and_map: # if the child is in the and edge\n",
    "            ae = get_andarc(c) \n",
    "            cc=sum(aek.cost+EDGE for aek in ae)\n",
    "            temp_solved = all([aek.is_solved for aek in ae])\n",
    " \n",
    "            if temp_solved: \n",
    "                head.is_solved=True;\n",
    "                if cc<temp_cost: \n",
    "                    bestsolved=ae;\n",
    "            \n",
    "            temp_cost = min(temp_cost,cc)\n",
    "\n",
    "        else: # else if child is in the or edge\n",
    "            if c.is_solved: \n",
    "                head.is_solved=True \n",
    "                cc = c.cost+EDGE\n",
    "                if cc < temp_cost: \n",
    "                    bestsolved = [c]\n",
    "            temp_cost = min(temp_cost,c.cost+EDGE)\n",
    "                \n",
    "   #head is explored now update the best value of head i.e. temp_cost  \n",
    "    if temp_cost < MAX:\n",
    "        head.cost=temp_cost\n",
    "        print(f'Updated head {head.index} cost {head.cost} is_solved {head.is_solved}')\n",
    " \n",
    "    #set up path\n",
    "    if head.is_solved:\n",
    "        for b in bestsolved: b.path=True\n",
    "        for c in head.children: \n",
    "            if c not in bestsolved: c.path=False\n",
    "    "
   ]
  },
  {
   "cell_type": "code",
   "execution_count": 5,
   "id": "d7d8698d",
   "metadata": {},
   "outputs": [],
   "source": [
    "def find_best_move(head):\n",
    "     #find the best move\n",
    "        print(f'##Find best move in {head.index}')\n",
    "        bestCost=MAX;bestMove=None; bestAndArc=None\n",
    "        temp_map=[]\n",
    "        for c in head.children:\n",
    "            if c in temp_map:continue\n",
    "            if c.or_map:\n",
    "                if bestCost>c.cost+EDGE:\n",
    "                    bestCost = c.cost+EDGE\n",
    "                    bestMove=c; \n",
    "            else: # and map\n",
    "                ae = get_andarc(c)\n",
    "                temp_map.extend(ae)\n",
    "                cc=sum(aek.cost+EDGE for aek in ae)\n",
    "                if bestCost>cc and cc!=0:\n",
    "                    bestCost = cc; bestAndArc = ae; bestMove = c\n",
    "            \n",
    "        print(f'\\n Moving forward, finding the best move,i>> {bestMove.index} and_map {bestMove.and_map} cost: {bestCost}')\n",
    "        if bestMove.and_map:\n",
    "            for ae in bestAndArc:aostarUtil(ae); \n",
    "        else:\n",
    "            aostarUtil(bestMove); \n"
   ]
  },
  {
   "cell_type": "code",
   "execution_count": 6,
   "id": "c7012464",
   "metadata": {},
   "outputs": [],
   "source": [
    "def check_update(head):\n",
    "    temp_cost=MAX; temp_map=[]\n",
    "    print(f'^^Check update {head.index}')\n",
    "    for c in head.children:\n",
    "        if c in temp_map:continue\n",
    "        if c.or_map:\n",
    "            if c.is_solved: head.is_solved=True\n",
    "            cc = c.cost+EDGE\n",
    "            temp_cost= min(temp_cost, c.cost+EDGE)\n",
    "        elif c.and_map:\n",
    "            f=True;cc=0\n",
    "            ae = get_andarc(c)\n",
    "            temp_map.extend(ae)\n",
    "            temp_solved = all([aek.is_solved for aek in ae])\n",
    "            cc=sum(aek.cost+EDGE for aek in ae)\n",
    "            temp_cost = min(temp_cost,cc)\n",
    "            \n",
    "            if temp_solved : head.is_solved = True\n",
    "\n",
    "    if temp_cost<=MAX: head.cost = temp_cost\n",
    "    print(f'Propagate updated Cost of node {head.index} {head.cost} ')\n",
    "\n"
   ]
  },
  {
   "cell_type": "code",
   "execution_count": 7,
   "id": "3d89342d",
   "metadata": {},
   "outputs": [],
   "source": [
    "path=[]\n",
    "def aostarUtil(head):\n",
    "    print(f'aostarUtil on {head.index}')\n",
    "    if head.visited ==False:\n",
    "        explore_head(head)  \n",
    "    else:\n",
    "        find_best_move(head)\n",
    "        #check if any of the options were solved\n",
    "        #if there are multiple solved nodes , select the best out of them \n",
    "        #also update the current cost i.e. head cost while backtracking to the root \n",
    "        check_update(head)"
   ]
  },
  {
   "cell_type": "code",
   "execution_count": 8,
   "id": "9babbbd8",
   "metadata": {},
   "outputs": [],
   "source": [
    "def aostar(head):\n",
    "    iter = 0\n",
    "    while head.is_solved==False and iter <MAX:\n",
    "        print(f'\\n  **Iteration {iter}')\n",
    "        aostarUtil(head)\n",
    "        iter+=1\n",
    "    \n",
    "    print('\\n Updated costs')\n",
    "    for a in adj[1:]:\n",
    "        print(a.index,': ',a.cost, a.is_solved)"
   ]
  },
  {
   "cell_type": "code",
   "execution_count": 9,
   "id": "68cb2414",
   "metadata": {
    "scrolled": true
   },
   "outputs": [
    {
     "name": "stdout",
     "output_type": "stream",
     "text": [
      "\n",
      "  **Iteration 0\n",
      "aostarUtil on 1\n",
      "Head: 1, Cost: 0\n",
      "Updated head 1 cost 14 is_solved False\n",
      "\n",
      "  **Iteration 1\n",
      "aostarUtil on 1\n",
      "##Find best move in 1\n",
      "\n",
      " Moving forward, finding the best move,i>> 4 and_map False cost: 14\n",
      "aostarUtil on 4\n",
      "Head: 4, Cost: 9\n",
      "Updated head 4 cost 18 is_solved True\n",
      "^^Check update 1\n",
      "Propagate updated Cost of node 1 23 \n",
      "\n",
      " Updated costs\n",
      "1 :  23 True\n",
      "2 :  6 False\n",
      "3 :  12 False\n",
      "4 :  18 True\n",
      "5 :  5 False\n",
      "6 :  7 True\n",
      "7 :  1 True\n",
      "8 :  4 True\n",
      "9 :  4 True\n",
      "10 :  1 True\n"
     ]
    }
   ],
   "source": [
    "MAX=1000\n",
    "EDGE=5 #g cost of edge, change to 5 for use case 2\n",
    "aostar(adj[1]) "
   ]
  },
  {
   "cell_type": "code",
   "execution_count": 10,
   "id": "9b37a51d",
   "metadata": {},
   "outputs": [
    {
     "name": "stdout",
     "output_type": "stream",
     "text": [
      "Cost of Solution : 23\n",
      "Path\n",
      "1 cost: 23\n",
      "4 cost: 18\n",
      "8 cost: 4\n",
      "9 cost: 4\n"
     ]
    }
   ],
   "source": [
    "print(f'Cost of Solution : {adj[1].cost}')\n",
    "print('Path')\n",
    "for a in adj:\n",
    "    if a.path: print(f'{a.index} cost: {a.cost}')"
   ]
  },
  {
   "cell_type": "code",
   "execution_count": null,
   "id": "ffef6c24",
   "metadata": {},
   "outputs": [],
   "source": []
  },
  {
   "cell_type": "code",
   "execution_count": null,
   "id": "1f160cdf",
   "metadata": {},
   "outputs": [],
   "source": []
  }
 ],
 "metadata": {
  "interpreter": {
   "hash": "67c5282be14de62632093de92d89477a488b37a8c180f59635e4453325c46ae2"
  },
  "kernelspec": {
   "display_name": "Python 3.9.6 64-bit",
   "name": "python3"
  },
  "language_info": {
   "codemirror_mode": {
    "name": "ipython",
    "version": 3
   },
   "file_extension": ".py",
   "mimetype": "text/x-python",
   "name": "python",
   "nbconvert_exporter": "python",
   "pygments_lexer": "ipython3",
   "version": "3.9.6"
  }
 },
 "nbformat": 4,
 "nbformat_minor": 5
}
