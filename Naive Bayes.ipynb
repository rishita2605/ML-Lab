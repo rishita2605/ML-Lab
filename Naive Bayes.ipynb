{
  "cells": [
    {
      "cell_type": "code",
      "execution_count": 2,
      "id": "29540dc2",
      "metadata": {
        "id": "29540dc2"
      },
      "outputs": [],
      "source": [
        "filename = 'pima-indians-diabetes.csv'\n",
        "import pandas as pd\n",
        "import numpy as np\n",
        "\n",
        "df= pd.read_csv(filename)\n",
        "df = df.astype(float) #converting all columns to float type\n",
        "\n",
        "train=df.sample(frac=0.8,random_state=105) #random state is a seed value\n",
        "# print(train.index) #train.index gives the index of all the data-rows included in train\n",
        "test=df.drop(train.index) #dropping those indices which are in train (keeping the remaining in test)\n",
        "# print(test) \n",
        "# columns ['Pregnancies','Glucose','BP','SkinThickness','Insulin','BMI','DiabetesPedigree','Age','Outcome']"
      ]
    },
    {
      "cell_type": "code",
      "execution_count": 4,
      "id": "d0628be2",
      "metadata": {
        "id": "d0628be2"
      },
      "outputs": [
        {
          "name": "stdout",
          "output_type": "stream",
          "text": [
            "       6    148    72    35     0  33.6  0.627    50\n",
            "1                                                   \n",
            "0.0  2.0   95.0  54.0  14.0  88.0  26.1  0.748  22.0\n",
            "1.0  3.0  141.0   0.0   0.0   0.0  30.0  0.761  27.0\n"
          ]
        }
      ],
      "source": [
        "# Train model\n",
        "# group by outcomes, in the train group i.e all ones together & zeroes together\n",
        "outcome_group = train.groupby(df.columns[-1])\n",
        "print(outcome_group.first()) #displays the first row(as tags)\n",
        "n_attr = len(df.columns) -1\n",
        "summaries = {}\n",
        "#summarize by outcome, find mean and std deviation of each outcome.\n",
        "for classValue, instances in outcome_group:\n",
        "    attr_mv=[]\n",
        "    mean=list(instances.mean(axis=0).values)\n",
        "    stdev=list(instances.std(axis=0).values)\n",
        "    for i in range(n_attr):\n",
        "        attr_mv.append([mean[i],stdev[i]])\n",
        "        \n",
        "    summaries[classValue]=attr_mv\n"
      ]
    },
    {
      "cell_type": "code",
      "execution_count": null,
      "id": "6ed6add7",
      "metadata": {
        "id": "6ed6add7"
      },
      "outputs": [],
      "source": [
        "import math\n",
        "def calculateProb(x, mean, stdev):\n",
        "    exponent = math.exp(-math.pow(x-mean,2)/(2*math.pow(stdev,2)))\n",
        "    return (1 / (math.sqrt(2*math.pi)*math.pow(stdev,2))) * exponent\n",
        "  \n",
        "\n",
        "def calculateClassProb(summaries, X_vec):\n",
        "    probabilities = {}\n",
        "    for classValue, classSummaries in summaries.items():\n",
        "        probabilities[classValue] = 1\n",
        "        for i in range(len(classSummaries)):\n",
        "            mean, stdev = classSummaries[i]\n",
        "            x = X_vec[i]\n",
        "            probabilities[classValue] *= calculateProb(x, mean, stdev)\n",
        "            \n",
        "    return probabilities\n",
        "    \n",
        "def predict(summaries, X_vec):\n",
        "    prob = calculateClassProb(summaries, X_vec)\n",
        "    bestLabel, bestProb = None, -1\n",
        "    for classValue, probability in prob.items():\n",
        "        if bestLabel is None or probability > bestProb:\n",
        "            bestProb = probability\n",
        "            bestLabel = classValue\n",
        "    return bestLabel\n"
      ]
    },
    {
      "cell_type": "code",
      "execution_count": null,
      "id": "dc34e58b",
      "metadata": {
        "id": "dc34e58b"
      },
      "outputs": [],
      "source": [
        "# test model\n",
        "predictions = []\n",
        "testSet=test.values.tolist()\n",
        "for i in range(len(testSet)):\n",
        "    result = predict(summaries, testSet[i])\n",
        "    predictions.append(result)"
      ]
    },
    {
      "cell_type": "code",
      "execution_count": null,
      "id": "2d6c02b9",
      "metadata": {
        "id": "2d6c02b9",
        "outputId": "91c71351-162b-4c98-9d5e-4a319ba5609b"
      },
      "outputs": [
        {
          "name": "stdout",
          "output_type": "stream",
          "text": [
            "Split 767 rows into train=614 and test=153\n",
            "Accuracy: 74.50980392156863\n"
          ]
        }
      ],
      "source": [
        "def getAccuracy(test, predictions):\n",
        "    correct = 0\n",
        "    for i in range(len(test)):\n",
        "        if test.iloc[i,-1] == predictions[i]:\n",
        "            correct += 1\n",
        "    return (correct/float(len(testSet))) * 100.0\n",
        "\n",
        "accuracy = getAccuracy(test, predictions)\n",
        "print(f'Split {len(df)} rows into train={len(train)} and test={len(test)}')\n",
        "print(f'Accuracy: {accuracy}')\n"
      ]
    },
    {
      "cell_type": "markdown",
      "id": "d3b77e90",
      "metadata": {
        "id": "d3b77e90"
      },
      "source": [
        "<h2>Using sci-kit-learn Gaussian NB</h2>"
      ]
    },
    {
      "cell_type": "code",
      "execution_count": null,
      "id": "f992f724",
      "metadata": {
        "id": "f992f724",
        "outputId": "854bb402-3288-4465-aa99-a501b5004027"
      },
      "outputs": [
        {
          "name": "stdout",
          "output_type": "stream",
          "text": [
            "Split 767 rows into train=614 and test=153\n",
            "Accuracy: 74.50980392156863\n"
          ]
        }
      ],
      "source": [
        "import pandas as pd\n",
        "import numpy as np\n",
        "\n",
        "from sklearn.naive_bayes import GaussianNB\n",
        "\n",
        "gnb = GaussianNB()\n",
        "data_train = train.iloc[:,:-1]\n",
        "target_train  = train.iloc[:,-1]\n",
        "gnb.fit(data_train, target_train)\n",
        "\n",
        "data_test = test.iloc[:,:-1]\n",
        "y_pred = gnb.predict(data_test)\n",
        "\n",
        "\n",
        "from sklearn import metrics\n",
        "\n",
        "#Model Accuracy, how often is the classifier correct?\n",
        "print(f'Split {len(df)} rows into train={len(data_train)} and test={len(data_test)}')\n",
        "print(\"Accuracy:\",(metrics.accuracy_score(test.iloc[:,-1], y_pred)*100))\n"
      ]
    }
  ],
  "metadata": {
    "colab": {
      "name": "NB.ipynb",
      "provenance": []
    },
    "kernelspec": {
      "display_name": "Python 3",
      "language": "python",
      "name": "python3"
    },
    "language_info": {
      "codemirror_mode": {
        "name": "ipython",
        "version": 3
      },
      "file_extension": ".py",
      "mimetype": "text/x-python",
      "name": "python",
      "nbconvert_exporter": "python",
      "pygments_lexer": "ipython3",
      "version": "3.9.6"
    }
  },
  "nbformat": 4,
  "nbformat_minor": 5
}
