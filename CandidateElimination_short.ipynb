{
 "cells": [
  {
   "cell_type": "code",
   "execution_count": 18,
   "metadata": {},
   "outputs": [
    {
     "name": "stdout",
     "output_type": "stream",
     "text": [
      "[['Sky', 'AirTemp', 'Humidity', 'Wind', 'Water', 'Forecast', 'label'],\n",
      " ['Sunny', 'Warm', 'Normal', 'Strong', 'Warm', 'Same', 'Y'],\n",
      " ['Sunny', 'Warm', 'High', 'Strong', 'Warm', 'Same', 'Y'],\n",
      " ['Rainy', 'Cold', 'High', 'Strong', 'Warm', 'Change', 'N'],\n",
      " ['Sunny', 'Warm', 'High', 'Strong', 'Cool', 'Change', 'Y']]\n",
      "S[0] - ['0', '0', '0', '0', '0', '0']\n",
      "G[0] - [['?', '?', '?', '?', '?', '?'], ['?', '?', '?', '?', '?', '?'], ['?', '?', '?', '?', '?', '?'], ['?', '?', '?', '?', '?', '?'], ['?', '?', '?', '?', '?', '?'], ['?', '?', '?', '?', '?', '?']]\n",
      "\n",
      "S[1] - ['Sunny', 'Warm', 'Normal', 'Strong', 'Warm', 'Same']\n",
      "G[1] - [['?', '?', '?', '?', '?', '?'], ['?', '?', '?', '?', '?', '?'], ['?', '?', '?', '?', '?', '?'], ['?', '?', '?', '?', '?', '?'], ['?', '?', '?', '?', '?', '?'], ['?', '?', '?', '?', '?', '?']]\n",
      "\n",
      "S[2] - ['Sunny', 'Warm', '?', 'Strong', 'Warm', 'Same']\n",
      "G[2] - [['?', '?', '?', '?', '?', '?'], ['?', '?', '?', '?', '?', '?'], ['?', '?', '?', '?', '?', '?'], ['?', '?', '?', '?', '?', '?'], ['?', '?', '?', '?', '?', '?'], ['?', '?', '?', '?', '?', '?']]\n",
      "\n",
      "S[3] - ['Sunny', 'Warm', '?', 'Strong', 'Warm', 'Same']\n",
      "G[3] - [['Sunny', '?', '?', '?', '?', '?'], ['?', 'Warm', '?', '?', '?', '?'], ['?', '?', '?', '?', '?', '?'], ['?', '?', '?', '?', '?', '?'], ['?', '?', '?', '?', '?', '?'], ['?', '?', '?', '?', '?', 'Same']]\n",
      "\n",
      "S[4] - ['Sunny', 'Warm', '?', 'Strong', '?', '?']\n",
      "G[4] - [['Sunny', '?', '?', '?', '?', '?'], ['?', 'Warm', '?', '?', '?', '?'], ['?', '?', '?', '?', '?', '?'], ['?', '?', '?', '?', '?', '?'], ['?', '?', '?', '?', '?', '?'], ['?', '?', '?', '?', '?', '?']]\n",
      "\n",
      "\n",
      "Final specific hypothesis:\n",
      " ['Sunny', 'Warm', '?', 'Strong', '?', '?']\n",
      "\n",
      "Final general hypothesis:\n",
      " [['Sunny', '?', '?', '?', '?', '?'], ['?', 'Warm', '?', '?', '?', '?']]\n"
     ]
    }
   ],
   "source": [
    "import csv\n",
    "from pprint import pprint\n",
    "with open(\"enjoySport1.csv\") as f:\n",
    "    csv_file = csv.reader(f)\n",
    "    data = list(csv_file)\n",
    "    pprint(data)\n",
    "    s = data[1][:-1] #initial specific boundary removing the last elem i.e o/p of yes or no\n",
    "  \n",
    "    g = [['?' for i in range(len(s))] for j in range(len(s))] #general hyppothesis for each attribute\n",
    "    iteration = 0 \n",
    "    #iterating through all training examples\n",
    "    for i in data:\n",
    "        if i[-1] == \"Y\":\n",
    "            for j in range(len(s)):\n",
    "                if i[j] != s[j]:\n",
    "                    s[j] = '?'\n",
    "                    g[j][j] = '?' #removing from general hypothesis\n",
    "\n",
    "        elif i[-1] == \"N\":\n",
    "            for j in range(len(s)):\n",
    "                if i[j] != s[j]:\n",
    "                    g[j][j] = s[j] #this thus does not add the examples in generic set which are not consistent with prev examples\n",
    "                else:\n",
    "                    g[j][j] = \"?\" #if anything exists in the generic boundary which is not consistent with -ve, removing it \n",
    "\n",
    "        \n",
    "        if(iteration==0):\n",
    "          specific = ['0']*len(s)\n",
    "          print(f'S[{iteration}] - {specific}')\n",
    "          print(f'G[{iteration}] - {g}\\n')\n",
    "        else:\n",
    "          print(f'S[{iteration}] - {s}')\n",
    "          print(f'G[{iteration}] - {g}\\n')\n",
    "        iteration+=1\n",
    "\n",
    "    gh = []\n",
    "    #removing all the general hypothesis with just ? \n",
    "    for i in g:\n",
    "        for j in i:\n",
    "            if j != '?':\n",
    "                gh.append(i)\n",
    "                break\n",
    "    print(\"\\nFinal specific hypothesis:\\n\", s)\n",
    "\n",
    "    print(\"\\nFinal general hypothesis:\\n\", gh)"
   ]
  }
 ],
 "metadata": {
  "interpreter": {
   "hash": "67c5282be14de62632093de92d89477a488b37a8c180f59635e4453325c46ae2"
  },
  "kernelspec": {
   "display_name": "Python 3.9.6 64-bit",
   "language": "python",
   "name": "python3"
  },
  "language_info": {
   "codemirror_mode": {
    "name": "ipython",
    "version": 3
   },
   "file_extension": ".py",
   "mimetype": "text/x-python",
   "name": "python",
   "nbconvert_exporter": "python",
   "pygments_lexer": "ipython3",
   "version": "3.9.6"
  },
  "orig_nbformat": 4
 },
 "nbformat": 4,
 "nbformat_minor": 2
}
