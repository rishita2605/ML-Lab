{
  "cells": [
    {
      "cell_type": "code",
      "execution_count": null,
      "id": "80e98335",
      "metadata": {
        "id": "80e98335"
      },
      "outputs": [],
      "source": [
        "categories = ['alt.atheism', 'soc.religion.christian',\n",
        "            'comp.graphics', 'sci.med']"
      ]
    },
    {
      "cell_type": "code",
      "execution_count": null,
      "id": "b2b6fb4e",
      "metadata": {
        "id": "b2b6fb4e"
      },
      "outputs": [],
      "source": [
        "from sklearn.datasets import fetch_20newsgroups\n",
        "train = fetch_20newsgroups(subset='train',\n",
        "categories=categories, shuffle=True, random_state=42)"
      ]
    },
    {
      "cell_type": "code",
      "execution_count": null,
      "id": "40a4c6c2",
      "metadata": {
        "id": "40a4c6c2",
        "outputId": "c885fb05-11f2-48af-afc3-c0aaf9088298"
      },
      "outputs": [
        {
          "name": "stdout",
          "output_type": "stream",
          "text": [
            "['alt.atheism', 'comp.graphics', 'sci.med', 'soc.religion.christian']\n",
            "No. of File names 2257\n",
            "Target [1 1 3 3 3 3 3 2 2 2]\n",
            "From: sd345@city.ac.uk (Michael Collier)\n",
            "Subject: Converting images to HP LaserJet III?\n",
            "Nntp-Posting-Host: hampton\n",
            "Organization: The City University\n",
            "Lines: 14\n",
            "\n",
            "Does anyone know of a good way (standard PC application/PD utility) to\n",
            "convert tif/img/tga files into LaserJet III format.  We would also like to\n",
            "do the same, converting to HPGL (HP plotter) files.\n",
            "\n",
            "Please email any response.\n",
            "\n",
            "Is this the correct group?\n",
            "\n",
            "Thanks in advance.  Michael.\n",
            "-- \n",
            "Michael Collier (Programmer)                 The Computer Unit,\n",
            "Email: M.P.Collier@uk.ac.city                The City University,\n",
            "Tel: 071 477-8000 x3769                      London,\n",
            "Fax: 071 477-8565                            EC1V 0HB.\n",
            "\n"
          ]
        }
      ],
      "source": [
        "print(train.target_names)\n",
        "print('No. of File names',len(train.data))\n",
        "print('Target',train.target[:10])\n",
        "print(train.data[0])"
      ]
    },
    {
      "cell_type": "markdown",
      "id": "5119a05a",
      "metadata": {
        "id": "5119a05a"
      },
      "source": [
        "<pre>\n",
        "\n",
        "---\n",
        "\n",
        "\n",
        "1. Convert text into bag of words\n",
        "2. assign each word an id\n",
        "3. Find the frequency of occurences of the worrds.\n",
        "tf idivide the number of occurrences of each word in a document by the total number of words in the document\n",
        "idf :  “Term Frequency times Inverse Document Frequency”.\n",
        "4. Call Multinomial NB : most suitable for word counts\n",
        "\n",
        "We can create a pipeline for these.\n",
        "https://scikit-learn.org/stable/tutorial/text_analytics/working_with_text_data.html\n",
        "</pre>"
      ]
    },
    {
      "cell_type": "code",
      "execution_count": null,
      "id": "c4f80033",
      "metadata": {
        "id": "c4f80033",
        "outputId": "a591d101-0ed8-4edb-dabd-877b9755c828"
      },
      "outputs": [
        {
          "name": "stdout",
          "output_type": "stream",
          "text": [
            "God is love => soc.religion.christian\n",
            "OpenGL on the GPU is fast => comp.graphics\n"
          ]
        }
      ],
      "source": [
        "# step by step\n",
        "from sklearn.feature_extraction.text import CountVectorizer\n",
        "from sklearn.feature_extraction.text import TfidfTransformer\n",
        "from sklearn.naive_bayes import MultinomialNB\n",
        "cv = CountVectorizer()\n",
        "X_train = cv.fit_transform(train.data)\n",
        "tf_transformer= TfidfTransformer().fit(X_train)\n",
        "X_train_tf = tf_transformer.transform(X_train)\n",
        "clf = MultinomialNB().fit(X_train_tf, train.target)\n",
        "\n",
        "docs_new = ['God is love', 'OpenGL on the GPU is fast']\n",
        "X_new_counts = cv.transform(docs_new)\n",
        "X_new_tf = tf_transformer.transform(X_new_counts)\n",
        "predicted = clf.predict(X_new_tf)\n",
        "for doc, category in zip(docs_new, predicted):\n",
        "    print(f'{doc} => {train.target_names[category]}')"
      ]
    },
    {
      "cell_type": "code",
      "execution_count": null,
      "id": "423a13db",
      "metadata": {
        "id": "423a13db"
      },
      "outputs": [],
      "source": [
        "# using the pipeline\n",
        "from sklearn.pipeline import Pipeline\n",
        "text_clf = Pipeline([('vect', CountVectorizer()),\n",
        "     ('tfidf', TfidfTransformer()),\n",
        "     ('clf', MultinomialNB()),\n",
        "])\n",
        "text_clf.fit(train.data, train.target)"
      ]
    },
    {
      "cell_type": "code",
      "execution_count": null,
      "id": "c108c7fa",
      "metadata": {
        "id": "c108c7fa"
      },
      "outputs": [],
      "source": [
        "import numpy as np\n",
        "\n",
        "test = fetch_20newsgroups(subset='test',\n",
        "categories=categories, shuffle=True, random_state=42)\n",
        "docs_test = test.data\n",
        "predicted = text_clf.predict(docs_test)\n",
        "np.mean(predicted == test.target)\n",
        "#accuracy of 83%"
      ]
    },
    {
      "cell_type": "code",
      "execution_count": null,
      "id": "f39a25e0",
      "metadata": {
        "id": "f39a25e0"
      },
      "outputs": [],
      "source": [
        ""
      ]
    }
  ],
  "metadata": {
    "kernelspec": {
      "display_name": "Python 3",
      "language": "python",
      "name": "python3"
    },
    "language_info": {
      "codemirror_mode": {
        "name": "ipython",
        "version": 3
      },
      "file_extension": ".py",
      "mimetype": "text/x-python",
      "name": "python",
      "nbconvert_exporter": "python",
      "pygments_lexer": "ipython3",
      "version": "3.8.8"
    },
    "colab": {
      "name": "tc_multinomialNB.ipynb",
      "provenance": []
    }
  },
  "nbformat": 4,
  "nbformat_minor": 5
}