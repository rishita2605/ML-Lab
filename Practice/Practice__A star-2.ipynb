{
 "cells": [
  {
   "cell_type": "code",
   "execution_count": 7,
   "metadata": {},
   "outputs": [],
   "source": [
    "class Node:\n",
    "  def __init__(self, value, coord):\n",
    "    self.value = value\n",
    "    self.coord = coord\n",
    "    self.g = 0; self.h = 0\n",
    "    self.parent = None\n",
    "  \n",
    "  def move_cost(self):\n",
    "    return 1\n"
   ]
  },
  {
   "cell_type": "code",
   "execution_count": 8,
   "metadata": {},
   "outputs": [],
   "source": [
    "def children(node, grid):\n",
    "  x, y = node.coord\n",
    "  links = [(x-1, y), (x, y-1), (x, y+1), (x+1, y)]\n",
    "  valid_links = [col for row in grid for col in row if col.value != 0]\n",
    "  valid_children = [link for link in valid_links if link.coord in links]\n",
    "\n",
    "  return valid_children"
   ]
  },
  {
   "cell_type": "code",
   "execution_count": 9,
   "metadata": {},
   "outputs": [],
   "source": [
    "def manhattan(node, goal):\n",
    "  xN, yN = node.coord\n",
    "  xG, yG = goal.coord\n",
    "  h = abs(xN - xG) + abs(yN - yG)\n",
    "  return h\n",
    "\n",
    "def chessboard(node, goal):\n",
    "  xN, yN = node.coord\n",
    "  xG, yG = goal.coord\n",
    "\n",
    "  h = max(abs(xN - xG), abs(yN, yG))\n",
    "  return h"
   ]
  },
  {
   "cell_type": "code",
   "execution_count": 10,
   "metadata": {},
   "outputs": [],
   "source": [
    "def aStar(start, goal, grid):\n",
    "  OPEN = list(); CLOSED = list()\n",
    "  current = start \n",
    "  OPEN.append(current)\n",
    "\n",
    "  while OPEN:\n",
    "\n",
    "    current = min(OPEN, key = lambda o: o.g + o.h)\n",
    "\n",
    "    OPEN.remove(current); CLOSED.append(current)\n",
    "\n",
    "    if current == goal:\n",
    "      path = []\n",
    "      while(current.parent):\n",
    "        path.append(current)\n",
    "        current = current.parent\n",
    "      \n",
    "      path.append(current)\n",
    "\n",
    "      return path[::-1]\n",
    "      \n",
    "    for node in children(current, grid):\n",
    "\n",
    "      if node in CLOSED:\n",
    "        new_cost = current.g + current.move_cost()\n",
    "        if(new_cost <= node.g):\n",
    "          CLOSED.remove(node); OPEN.append(node)\n",
    "      \n",
    "      elif node in OPEN:\n",
    "        new_cost = current.g + current.move_cost()\n",
    "        if(new_cost <= node.g):\n",
    "          node.g = new_cost \n",
    "          node.parent = current\n",
    "      \n",
    "      else:\n",
    "        node.g = current.g + current.move_cost()\n",
    "        node.h = manhattan(node, goal)\n",
    "        node.parent = current\n",
    "\n",
    "        OPEN.append(node)\n",
    "  \n",
    "  return None"
   ]
  },
  {
   "cell_type": "code",
   "execution_count": 11,
   "metadata": {},
   "outputs": [],
   "source": [
    "grid = [[1,1,1,1], #1-not blocked, 0 -  not blocked\n",
    "        [1,1,1,1],\n",
    "        [1,1,1,1],\n",
    "        [1,1,0,0],\n",
    "        [1,1,0,1]]\n",
    "\n",
    "for row in range(len(grid)):\n",
    "  for col in range(len(grid[row])):\n",
    "    grid[row][col] = Node(grid[row][col], (row, col))\n",
    "\n",
    "start = grid[4][0]\n",
    "goal = grid [0][3]"
   ]
  },
  {
   "cell_type": "code",
   "execution_count": 15,
   "metadata": {},
   "outputs": [
    {
     "name": "stdout",
     "output_type": "stream",
     "text": [
      "(4, 0) -> (4, 1) -> (3, 1) -> (2, 1) -> (2, 2) -> (2, 3) -> (1, 3) -> (0, 3) -> end.\n",
      "Path Length is 8\n"
     ]
    }
   ],
   "source": [
    "path = aStar(start, goal, grid)\n",
    "pathlen = 0\n",
    "if path:\n",
    "  for p in path:\n",
    "    pathlen+=1\n",
    "    print(p.coord, end=' -> ')\n",
    "else:\n",
    "  print('No path found.')\n",
    "\n",
    "print(f'end.\\nPath Length is {pathlen}')"
   ]
  }
 ],
 "metadata": {
  "interpreter": {
   "hash": "2be5faf79681da6f2a61fdfdd5405d65d042280f7fba6178067603e3a2925119"
  },
  "kernelspec": {
   "display_name": "Python 3.10.3 64-bit",
   "language": "python",
   "name": "python3"
  },
  "language_info": {
   "codemirror_mode": {
    "name": "ipython",
    "version": 3
   },
   "file_extension": ".py",
   "mimetype": "text/x-python",
   "name": "python",
   "nbconvert_exporter": "python",
   "pygments_lexer": "ipython3",
   "version": "3.8.8"
  },
  "orig_nbformat": 4
 },
 "nbformat": 4,
 "nbformat_minor": 2
}
