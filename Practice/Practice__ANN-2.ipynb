{
 "cells": [
  {
   "cell_type": "code",
   "execution_count": 20,
   "metadata": {},
   "outputs": [
    {
     "name": "stdout",
     "output_type": "stream",
     "text": [
      "input\n",
      "[[0.66666667 1.        ]\n",
      " [0.33333333 0.55555556]\n",
      " [1.         0.66666667]]\n",
      "output\n",
      "[[92.]\n",
      " [86.]\n",
      " [89.]]\n"
     ]
    }
   ],
   "source": [
    "import numpy as np\n",
    "X = np.array(([2,9], [1,5], [3,6]), dtype = float)\n",
    "Y = np.array(([92], [86], [89]), dtype = float)\n",
    "X = X/np.amax(X, axis=0)\n",
    "actual_output = Y/100\n",
    "\n",
    "print(f'input\\n{X}')\n",
    "print(f'output\\n{Y}')\n"
   ]
  },
  {
   "cell_type": "code",
   "execution_count": 21,
   "metadata": {},
   "outputs": [],
   "source": [
    "#init\n",
    "EPOCH = 1000\n",
    "eta = 0.15\n",
    "num_ip_neurons = 2\n",
    "num_hidden_neurons = 3\n",
    "num_op_neurons = 1\n",
    "\n",
    "wh = np.random.uniform(low = -0.05, high = 0.05, size = (num_ip_neurons, num_hidden_neurons))\n",
    "bh = np.random.uniform(low = -0.05, high = 0.05, size = (1, num_hidden_neurons))\n",
    "\n",
    "wo = np.random.uniform(low = -0.05, high = 0.05, size = (num_hidden_neurons, num_op_neurons))\n",
    "bo = np.random.uniform(low = -0.05, high = 0.05, size = (1, num_op_neurons))"
   ]
  },
  {
   "cell_type": "code",
   "execution_count": 22,
   "metadata": {},
   "outputs": [],
   "source": [
    "def sigmoid(x):\n",
    "    return 1/(1+np.exp(-x))\n",
    "\n",
    "def derivative_sigmoid(x):\n",
    "    return x * (1-x)\n",
    "    "
   ]
  },
  {
   "cell_type": "code",
   "execution_count": 23,
   "metadata": {},
   "outputs": [],
   "source": [
    "for i in range(EPOCH):\n",
    "    #feed forward n/w \n",
    "    net_h = np.dot(X, wh) + bh\n",
    "    sigma_h = sigmoid(net_h)\n",
    "    \n",
    "    net_o = np.dot(sigma_h, wo) + bo\n",
    "    output = sigmoid(net_o)\n",
    "    \n",
    "    #propagating backwards\n",
    "    #error at o/p layer\n",
    "    eo = actual_output - output\n",
    "    out_grad = derivative_sigmoid(output)\n",
    "    del_output = eo * out_grad\n",
    "    \n",
    "    #error at hidden layer\n",
    "    eh = del_output.dot(wo.T)\n",
    "    hidden_grad = derivative_sigmoid(sigma_h)\n",
    "    del_hidden = eh * hidden_grad\n",
    "    \n",
    "    #calculating weights \n",
    "    wo += sigma_h.T.dot(del_output) * eta\n",
    "    wh += X.T.dot(del_hidden) * eta\n",
    "    \n",
    "    sum_error = 0\n",
    "    for j in range(len(actual_output)):\n",
    "        sum_error += (actual_output[j] - output[j])**2\n",
    "    \n",
    "    sum_error = sum_error/2\n",
    "    \n",
    "    \n",
    "    "
   ]
  },
  {
   "cell_type": "code",
   "execution_count": 24,
   "metadata": {},
   "outputs": [
    {
     "name": "stdout",
     "output_type": "stream",
     "text": [
      "The actual output is: \n",
      "[[0.92]\n",
      " [0.86]\n",
      " [0.89]]\n",
      "\n",
      "The predicted output is: \n",
      "[[0.89567399]\n",
      " [0.87993844]\n",
      " [0.89436542]]\n",
      "\n",
      "The error is: \n",
      "[0.00050418]\n",
      "\n"
     ]
    }
   ],
   "source": [
    "print(f'The actual output is: \\n{actual_output}\\n')\n",
    "print(f'The predicted output is: \\n{output}\\n')\n",
    "print(f'The error is: \\n{sum_error}\\n')"
   ]
  }
 ],
 "metadata": {
  "interpreter": {
   "hash": "171ef77c600712421402a5338eca9e35ba809d2803a8fd1940cf4c7eec5cd8a9"
  },
  "kernelspec": {
   "display_name": "Python 3",
   "language": "python",
   "name": "python3"
  },
  "language_info": {
   "codemirror_mode": {
    "name": "ipython",
    "version": 3
   },
   "file_extension": ".py",
   "mimetype": "text/x-python",
   "name": "python",
   "nbconvert_exporter": "python",
   "pygments_lexer": "ipython3",
   "version": "3.8.8"
  }
 },
 "nbformat": 4,
 "nbformat_minor": 2
}
