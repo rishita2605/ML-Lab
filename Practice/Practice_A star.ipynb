{
 "cells": [
  {
   "cell_type": "code",
   "execution_count": 1,
   "metadata": {},
   "outputs": [],
   "source": [
    "class Node:\n",
    "  def __init__(self, value, coord):\n",
    "    self.value=value\n",
    "    self.coord=coord\n",
    "    self.g=0\n",
    "    self.h=0\n",
    "    self.parent=None\n",
    "  \n",
    "  def __str__(self):\n",
    "    s = f'Node = {self.coord} h = {self.h} g={self.g}'\n",
    "    return s\n",
    "  \n",
    "  def move_cost(self, other):\n",
    "    return 1"
   ]
  },
  {
   "cell_type": "code",
   "execution_count": 2,
   "metadata": {},
   "outputs": [],
   "source": [
    "# calculating heuristic distances\n",
    "def manhattan(node, goal):\n",
    "  xN, yN = node.coord\n",
    "  xG, yG = goal.coord\n",
    "\n",
    "  return abs(xG-xN) + abs(yG - yN)\n",
    "\n",
    "def chessboard(node, goal):\n",
    "  xN, yN = node.coord\n",
    "  xG, yG = goal.coord\n",
    "  \n",
    "  return max(abs(xG-xN), abs(yG - yN))"
   ]
  },
  {
   "cell_type": "code",
   "execution_count": 3,
   "metadata": {},
   "outputs": [],
   "source": [
    "#finding valid children\n",
    "def children(current_node, grid):\n",
    "  x, y = current_node.coord\n",
    "  links = [(x-1, y), (x, y-1), (x, y+1), (x+1, y)]\n",
    "\n",
    "  valid_links = [col for row in grid for col in row if col.value != 0 ]\n",
    "  # print('valid links\\n',[t.coord for t in valid_links])\n",
    "  valid_children = [child for child in valid_links if child.coord in links]\n",
    "\n",
    "  return valid_children"
   ]
  },
  {
   "cell_type": "code",
   "execution_count": 4,
   "metadata": {},
   "outputs": [],
   "source": [
    "def astar(start, goal, grid):\n",
    "  OPEN=list() \n",
    "  CLOSED=list()\n",
    "  current = start\n",
    "\n",
    "  OPEN.append(current)\n",
    "  i=0\n",
    "  while(OPEN):\n",
    "    # print('Iteration ',i) # for tracing purpose\n",
    "    i+=1 # for tracing purpose\n",
    "    current = min(OPEN, key=lambda o: o.g + o.h)\n",
    "    # print(current)\n",
    "    if(current==goal):\n",
    "      path = [] \n",
    "      while current.parent:\n",
    "        path.append(current)\n",
    "        current = current.parent\n",
    "      \n",
    "      path.append(current)\n",
    "      return path[::-1]\n",
    "    \n",
    "    OPEN.remove(current) \n",
    "    CLOSED.append(current)\n",
    "    # print([i.coord for i in children(current, grid)])\n",
    "    for node in children(current, grid):\n",
    "\n",
    "      if node in CLOSED:\n",
    "        new_cost = current.g + current.move_cost(node)\n",
    "\n",
    "        if new_cost <= node.g:\n",
    "          OPEN.append(node)\n",
    "          CLOSED.remove(node)\n",
    "\n",
    "      elif node in OPEN:\n",
    "        new_cost = current.g + current.move_cost(node)\n",
    "\n",
    "        if new_cost <= node.g:\n",
    "          node.g = new_cost\n",
    "          node.parent = current\n",
    "      else:\n",
    "        node.g = current.g + current.move_cost(node)\n",
    "        node.h = manhattan(node, goal)\n",
    "        node.parent = current\n",
    "        OPEN.append(node)\n",
    "\n",
    "\n",
    "  return None"
   ]
  },
  {
   "cell_type": "code",
   "execution_count": 5,
   "metadata": {},
   "outputs": [],
   "source": [
    "#use-case 1\n",
    "grid = [[1,1,1,1], #1-not blocked, 0 -  not blocked\n",
    "        [1,1,1,1],\n",
    "        [1,1,1,1],\n",
    "        [1,1,0,0],\n",
    "        [1,1,0,1]]\n",
    "\n",
    "#convering into node\n",
    "for row in range(len(grid)):\n",
    "  for col in range(len(grid[row])):\n",
    "    grid[row][col] = Node(grid[row][col], (row,col))\n",
    "\n",
    "start = grid[4][0]\n",
    "goal = grid[0][3]"
   ]
  },
  {
   "cell_type": "code",
   "execution_count": 9,
   "metadata": {},
   "outputs": [
    {
     "name": "stdout",
     "output_type": "stream",
     "text": [
      "+++++++++++++++++++++++++++THE PATH IS+++++++++++++++++++++++++++\n",
      "\n",
      "(4, 0) (4, 1) (3, 1) (2, 1) (2, 2) (2, 3) (1, 3) (0, 3) "
     ]
    }
   ],
   "source": [
    "#driver code\n",
    "path = astar(start, goal, grid)\n",
    "if(path):\n",
    "  print('+++++++++++++++++++++++++++THE PATH IS+++++++++++++++++++++++++++\\n')\n",
    "  for i in path:\n",
    "    print(i.coord, end=' ') \n",
    "else:\n",
    "  print('+++++++++++++++++++++++++++NO PATH EXISTS+++++++++++++++++++++++++++')"
   ]
  }
 ],
 "metadata": {
  "interpreter": {
   "hash": "67c5282be14de62632093de92d89477a488b37a8c180f59635e4453325c46ae2"
  },
  "kernelspec": {
   "display_name": "Python 3.9.6 64-bit",
   "language": "python",
   "name": "python3"
  },
  "language_info": {
   "codemirror_mode": {
    "name": "ipython",
    "version": 3
   },
   "file_extension": ".py",
   "mimetype": "text/x-python",
   "name": "python",
   "nbconvert_exporter": "python",
   "pygments_lexer": "ipython3",
   "version": "3.9.6"
  },
  "orig_nbformat": 4
 },
 "nbformat": 4,
 "nbformat_minor": 2
}
