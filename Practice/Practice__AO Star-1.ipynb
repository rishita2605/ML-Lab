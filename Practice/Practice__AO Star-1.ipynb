{
 "cells": [
  {
   "cell_type": "code",
   "execution_count": 1,
   "metadata": {},
   "outputs": [],
   "source": [
    "class Node:\n",
    "  def __init__(self, index, cost, visited = False, is_solved = False, and_arc = False, or_arc = False):\n",
    "    self.index = index\n",
    "    self.cost = cost\n",
    "\n",
    "    self.visited = visited\n",
    "    self.is_solved = is_solved\n",
    "\n",
    "    self.path = False\n",
    "    self.children = None\n",
    "\n",
    "    self.and_arc = and_arc\n",
    "    self.or_arc =  or_arc\n",
    "\n",
    "  def __str__(self):\n",
    "    return f'Node -> {self.index} Cost -> {self.cost}'\n",
    "  \n",
    "  def set_children(self, child_list):\n",
    "    self.children = child_list"
   ]
  },
  {
   "cell_type": "code",
   "execution_count": 3,
   "metadata": {},
   "outputs": [],
   "source": [
    "node = []\n",
    "cost = [None, 0, 6, 12, 9, 5, 7, 1, 4, 4, 1]\n",
    "ch_list = {1:[2,3,4], 2:[5,6], 3:[7], 4:[8,9], 5:[10]}\n",
    "num_nodes = 10\n",
    "\n",
    "node = [Node(i, cost[i]) for i in range(num_nodes+1)]\n",
    "\n",
    "for parent, child in ch_list.items():\n",
    "  child_node = [node[c] for c in child]\n",
    "  node[parent].set_children(child_node)\n",
    "\n",
    "and_edges = []\n",
    "\n",
    "and_arc = [node[1], (node[2], node[3])]\n",
    "node[2].and_arc = True; node[3].and_arc = True\n",
    "and_edges.append(and_arc)\n",
    "\n",
    "and_arc = [node[4], (node[8], node[9])]\n",
    "node[8].and_arc = True; node[9].and_arc = True\n",
    "and_edges.append(and_arc)\n",
    "\n",
    "for n in node:\n",
    "  if not n.children:\n",
    "    n.is_solved = True\n",
    "\n",
    "  if n.and_arc == False:\n",
    "    n.or_arc = True\n"
   ]
  }
 ],
 "metadata": {
  "interpreter": {
   "hash": "171ef77c600712421402a5338eca9e35ba809d2803a8fd1940cf4c7eec5cd8a9"
  },
  "kernelspec": {
   "display_name": "Python 3.8.8 ('base')",
   "language": "python",
   "name": "python3"
  },
  "language_info": {
   "codemirror_mode": {
    "name": "ipython",
    "version": 3
   },
   "file_extension": ".py",
   "mimetype": "text/x-python",
   "name": "python",
   "nbconvert_exporter": "python",
   "pygments_lexer": "ipython3",
   "version": "3.8.8"
  },
  "orig_nbformat": 4
 },
 "nbformat": 4,
 "nbformat_minor": 2
}
