{
 "cells": [
  {
   "cell_type": "code",
   "execution_count": 11,
   "metadata": {},
   "outputs": [],
   "source": [
    "class Node:\n",
    "  def __init__(self, index, cost, visited = False, is_solved = False, and_arc = False, or_arc = False):\n",
    "    self.index = index\n",
    "    self.cost = cost\n",
    "\n",
    "    self.visited = visited\n",
    "    self.is_solved = is_solved\n",
    "\n",
    "    self.path = False\n",
    "    self.children = None\n",
    "\n",
    "    self.and_arc = and_arc\n",
    "    self.or_arc =  or_arc\n",
    "\n",
    "  def __str__(self):\n",
    "    return f'Node -> {self.index} Cost -> {self.cost} Path -> {self.path}'\n",
    "  \n",
    "  def set_children(self, child_list):\n",
    "    self.children = child_list"
   ]
  },
  {
   "cell_type": "code",
   "execution_count": 12,
   "metadata": {},
   "outputs": [],
   "source": [
    "node = []\n",
    "cost = [None, 0, 6, 12, 9, 5, 7, 1, 4, 4, 1]\n",
    "ch_list = {1:[2,3,4], 2:[5,6], 3:[7], 4:[8,9], 5:[10]}\n",
    "num_nodes = 10\n",
    "\n",
    "node = [Node(i, cost[i]) for i in range(num_nodes+1)]\n",
    "\n",
    "for parent, child in ch_list.items():\n",
    "  child_node = [node[c] for c in child]\n",
    "  node[parent].set_children(child_node)\n",
    "\n",
    "and_edges = []\n",
    "\n",
    "and_arc_elem = [node[1], (node[2], node[3])]\n",
    "and_edges.append(and_arc_elem)\n",
    "node[2].and_arc = True; node[3].and_arc = True\n",
    "\n",
    "\n",
    "and_arc_elem = [node[4], (node[8], node[9])]\n",
    "and_edges.append(and_arc_elem)\n",
    "node[8].and_arc = True; node[9].and_arc = True\n",
    "\n",
    "\n",
    "for n in node:\n",
    "  if not n.children:\n",
    "    n.is_solved = True\n",
    "\n",
    "  if n.and_arc == False:\n",
    "    n.or_arc = True\n"
   ]
  },
  {
   "cell_type": "code",
   "execution_count": 13,
   "metadata": {},
   "outputs": [],
   "source": [
    "def get_and_arc(n):\n",
    "  for parent, siblings in and_edges:\n",
    "    if n in siblings:\n",
    "      return siblings"
   ]
  },
  {
   "cell_type": "code",
   "execution_count": 14,
   "metadata": {},
   "outputs": [],
   "source": [
    "def explore_head(head):\n",
    "  temp_map = []; temp_cost = MAX; bestsolved = []\n",
    "  head.visited = True; head.path = True\n",
    "\n",
    "  for child in head.children:\n",
    "    if child in temp_map:\n",
    "      continue\n",
    "    if child.and_arc:\n",
    "      sib_ls = get_and_arc(child)\n",
    "      cur_cost = sum(c.cost + EDGE for c in sib_ls)\n",
    "      and_arc_solved = all([c.is_solved for c in sib_ls])\n",
    "\n",
    "      if and_arc_solved:\n",
    "        head.is_solved = True\n",
    "        if cur_cost < temp_cost:\n",
    "          bestsolved = sib_ls\n",
    "\n",
    "      temp_cost = min(temp_cost, cur_cost)\n",
    "\n",
    "    else:\n",
    "      cur_cost = child.cost + EDGE\n",
    "      if child.is_solved:\n",
    "        head.is_solved = True\n",
    "\n",
    "        if cur_cost < temp_cost:\n",
    "          bestsolved = [child]\n",
    "\n",
    "      temp_cost = min(temp_cost, cur_cost)\n",
    "  \n",
    "    \n",
    "  if temp_cost <= MAX:\n",
    "    head.cost = temp_cost\n",
    "  \n",
    "  if head.is_solved:\n",
    "    for b in bestsolved:\n",
    "      print(f'best solved {b}')\n",
    "      b.path = True\n",
    "    \n",
    "    for child in head.children:\n",
    "      if child not in bestsolved:\n",
    "        child.path = False\n"
   ]
  },
  {
   "cell_type": "code",
   "execution_count": 15,
   "metadata": {},
   "outputs": [],
   "source": [
    "def find_best_move(head):\n",
    "  bestMove = None; bestCost = MAX; bestAndArc = None; temp_map = []\n",
    "\n",
    "  for child in head.children:\n",
    "    if child in temp_map:\n",
    "      continue\n",
    "    if child.and_arc:\n",
    "      sib_ls = get_and_arc(child)\n",
    "      cur_cost = sum(c.cost + EDGE for c in sib_ls)\n",
    "      temp_map.extend(sib_ls)\n",
    "\n",
    "      if cur_cost<bestCost and cur_cost!=0:\n",
    "        bestCost = cur_cost\n",
    "        bestMove = child\n",
    "        bestAndArc = sib_ls\n",
    "        \n",
    "    elif child.or_arc:\n",
    "      cur_cost = child.cost + EDGE\n",
    "\n",
    "      if cur_cost < bestCost:\n",
    "        bestCost = cur_cost\n",
    "        bestMove = child\n",
    "  \n",
    "    \n",
    "  if bestMove!=None and bestMove.and_arc:\n",
    "    for elem in bestAndArc:\n",
    "      aoStarUtil(elem)\n",
    "  else:\n",
    "    aoStarUtil(bestMove)\n"
   ]
  },
  {
   "cell_type": "code",
   "execution_count": 16,
   "metadata": {},
   "outputs": [],
   "source": [
    "def check_update(head):\n",
    "  temp_map = []; temp_cost = MAX; child_solved = False\n",
    "\n",
    "  for child in head.children:\n",
    "    if child in temp_map:\n",
    "      continue\n",
    "    if child.and_arc:\n",
    "      sib_ls = get_and_arc(child)\n",
    "      child_solved = all([s.is_solved for s in sib_ls])\n",
    "      cur_cost = sum(s.cost + EDGE for s in sib_ls)\n",
    "      temp_map.extend(sib_ls)\n",
    "\n",
    "      if child_solved:\n",
    "        head.is_solved = True\n",
    "      \n",
    "      temp_cost = min(cur_cost, temp_cost)\n",
    "    elif child.or_arc:\n",
    "      cur_cost = child.cost + EDGE\n",
    "\n",
    "      if child.is_solved:\n",
    "        head.is_solved = True\n",
    "      \n",
    "      temp_cost = min(cur_cost, temp_cost)\n",
    "    \n",
    "\n",
    "  if temp_cost <= MAX:\n",
    "    head.cost = temp_cost\n",
    "\n",
    "        \n",
    "        "
   ]
  },
  {
   "cell_type": "code",
   "execution_count": 17,
   "metadata": {},
   "outputs": [],
   "source": [
    "def aoStarUtil(head):\n",
    "  if head.visited == False:\n",
    "    explore_head(head)\n",
    "  else:\n",
    "    find_best_move(head)\n",
    "    check_update(head)"
   ]
  },
  {
   "cell_type": "code",
   "execution_count": 18,
   "metadata": {},
   "outputs": [],
   "source": [
    "def aostar(head):\n",
    "    iter = 0\n",
    "    while head.is_solved==False and iter < MAX:\n",
    "        aoStarUtil(head)\n",
    "        iter+=1\n",
    "    \n",
    "    print('\\n Updated costs')\n",
    "    for a in node[1:]:\n",
    "        print(a)"
   ]
  },
  {
   "cell_type": "code",
   "execution_count": 19,
   "metadata": {},
   "outputs": [
    {
     "name": "stdout",
     "output_type": "stream",
     "text": [
      "best solved Node -> 8 Cost -> 4 Path -> False\n",
      "best solved Node -> 9 Cost -> 4 Path -> False\n",
      "\n",
      " Updated costs\n",
      "Node -> 1 Cost -> 11 Path -> True\n",
      "Node -> 2 Cost -> 6 Path -> False\n",
      "Node -> 3 Cost -> 12 Path -> False\n",
      "Node -> 4 Cost -> 10 Path -> True\n",
      "Node -> 5 Cost -> 5 Path -> False\n",
      "Node -> 6 Cost -> 7 Path -> False\n",
      "Node -> 7 Cost -> 1 Path -> False\n",
      "Node -> 8 Cost -> 4 Path -> True\n",
      "Node -> 9 Cost -> 4 Path -> True\n",
      "Node -> 10 Cost -> 1 Path -> False\n",
      "\n",
      "\n",
      "The path is\n",
      "Node -> 1 Cost -> 11 Path -> True\n",
      "Node -> 4 Cost -> 10 Path -> True\n",
      "Node -> 8 Cost -> 4 Path -> True\n",
      "Node -> 9 Cost -> 4 Path -> True\n"
     ]
    }
   ],
   "source": [
    "head = node[1]\n",
    "EDGE = 1\n",
    "MAX = 1000\n",
    "aostar(node[1]) \n",
    "print('\\n\\nThe path is')\n",
    "for n in node:\n",
    "  if n.path:\n",
    "    print(n)\n"
   ]
  },
  {
   "cell_type": "code",
   "execution_count": 20,
   "metadata": {},
   "outputs": [
    {
     "name": "stdout",
     "output_type": "stream",
     "text": [
      "Node -> 4 Cost -> 10 Path -> True\n"
     ]
    }
   ],
   "source": [
    "print(node[4])"
   ]
  }
 ],
 "metadata": {
  "interpreter": {
   "hash": "171ef77c600712421402a5338eca9e35ba809d2803a8fd1940cf4c7eec5cd8a9"
  },
  "kernelspec": {
   "display_name": "Python 3.8.8 ('base')",
   "language": "python",
   "name": "python3"
  },
  "language_info": {
   "codemirror_mode": {
    "name": "ipython",
    "version": 3
   },
   "file_extension": ".py",
   "mimetype": "text/x-python",
   "name": "python",
   "nbconvert_exporter": "python",
   "pygments_lexer": "ipython3",
   "version": "3.8.8"
  },
  "orig_nbformat": 4
 },
 "nbformat": 4,
 "nbformat_minor": 2
}
