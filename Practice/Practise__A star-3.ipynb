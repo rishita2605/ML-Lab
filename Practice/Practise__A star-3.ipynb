{
 "cells": [
  {
   "cell_type": "code",
   "execution_count": 14,
   "metadata": {},
   "outputs": [],
   "source": [
    "class Node:\n",
    "  def __init__(self, value, coord):\n",
    "    self.value = value\n",
    "    self.coord = coord\n",
    "    self.g = 0; self.h = 0\n",
    "    self.parent = None\n",
    "\n",
    "  def __str__(self):\n",
    "    return f'coords -> {self.coord}'\n",
    "  \n",
    "  def move_cost(self):\n",
    "    return 1"
   ]
  },
  {
   "cell_type": "code",
   "execution_count": 15,
   "metadata": {},
   "outputs": [],
   "source": [
    "def children(node, grid):\n",
    "  x, y = node.coord\n",
    "  links = [(x-1, y), (x, y-1), (x+1, y), (x, y+1)]\n",
    "  valid_links = [col for row in grid for col in row if col.value!=0]\n",
    "  valid_children = [link for link in valid_links if link.coord in links]\n",
    "\n",
    "  return valid_children"
   ]
  },
  {
   "cell_type": "code",
   "execution_count": 16,
   "metadata": {},
   "outputs": [],
   "source": [
    "def manhattan(node, goal):\n",
    "  xn, yn = node.coord\n",
    "  xg, yg = goal.coord\n",
    "\n",
    "  return abs(xn - xg) + abs(yn - yg)\n"
   ]
  },
  {
   "cell_type": "code",
   "execution_count": 17,
   "metadata": {},
   "outputs": [],
   "source": [
    "def aStar(start, goal, grid):\n",
    "  OPEN = list(); CLOSED = list()\n",
    "\n",
    "  current = start \n",
    "  OPEN.append(current)\n",
    "\n",
    "  while OPEN:\n",
    "    current = min(OPEN, key = lambda o: o.g + o.h)\n",
    "    OPEN.remove(current); CLOSED.append(current)\n",
    "\n",
    "    if current == goal:\n",
    "      path = []\n",
    "      while(current.parent):\n",
    "        path.append(current)\n",
    "        current = current.parent\n",
    "      path.append(current)\n",
    "      return path[::-1]\n",
    "\n",
    "    for node in children(current, grid):\n",
    "      new_cost = current.g + current.move_cost()\n",
    "      if node in CLOSED:\n",
    "        if new_cost <= node.g:\n",
    "          OPEN.append(node); CLOSED.remove(node)\n",
    "\n",
    "      elif node in OPEN:\n",
    "        if new_cost <= node.g:\n",
    "          node.g = new_cost\n",
    "          node.parent = current\n",
    "        \n",
    "      else:\n",
    "        node.g = new_cost\n",
    "        node.h = manhattan(node, goal)\n",
    "        node.parent = current\n",
    "\n",
    "        OPEN.append(node)\n",
    "      \n",
    "  return None"
   ]
  },
  {
   "cell_type": "code",
   "execution_count": 18,
   "metadata": {},
   "outputs": [],
   "source": [
    "grid = [[1,1,1,1], #1-not blocked, 0 -  not blocked\n",
    "        [1,1,1,1],\n",
    "        [1,1,1,1],\n",
    "        [1,1,0,0],\n",
    "        [1,1,0,1]]\n",
    "\n",
    "\n",
    "for row in range(len(grid)):\n",
    "  for col in range(len(grid[row])):\n",
    "    grid[row][col] = Node(grid[row][col], (row, col))\n",
    "\n",
    "start = grid[4][0]\n",
    "goal = grid [0][3]"
   ]
  },
  {
   "cell_type": "code",
   "execution_count": 19,
   "metadata": {},
   "outputs": [
    {
     "name": "stdout",
     "output_type": "stream",
     "text": [
      "coords -> (4, 0)\n",
      "coords -> (4, 1)\n",
      "coords -> (3, 1)\n",
      "coords -> (2, 1)\n",
      "coords -> (2, 2)\n",
      "coords -> (2, 3)\n",
      "coords -> (1, 3)\n",
      "coords -> (0, 3)\n"
     ]
    }
   ],
   "source": [
    "path = aStar(start, goal, grid)\n",
    "\n",
    "if path:\n",
    "  for p in path:\n",
    "    print(p)\n",
    "else:\n",
    "  print('No path found')"
   ]
  },
  {
   "cell_type": "code",
   "execution_count": null,
   "metadata": {},
   "outputs": [],
   "source": []
  }
 ],
 "metadata": {
  "interpreter": {
   "hash": "171ef77c600712421402a5338eca9e35ba809d2803a8fd1940cf4c7eec5cd8a9"
  },
  "kernelspec": {
   "display_name": "Python 3.8.8 ('base')",
   "language": "python",
   "name": "python3"
  },
  "language_info": {
   "codemirror_mode": {
    "name": "ipython",
    "version": 3
   },
   "file_extension": ".py",
   "mimetype": "text/x-python",
   "name": "python",
   "nbconvert_exporter": "python",
   "pygments_lexer": "ipython3",
   "version": "3.8.8"
  },
  "orig_nbformat": 4
 },
 "nbformat": 4,
 "nbformat_minor": 2
}
