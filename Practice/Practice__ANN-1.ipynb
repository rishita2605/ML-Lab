{
 "cells": [
  {
   "cell_type": "code",
   "execution_count": 6,
   "id": "f0452abe",
   "metadata": {},
   "outputs": [
    {
     "name": "stdout",
     "output_type": "stream",
     "text": [
      "normalised i/p\n",
      " [[0.66666667 1.        ]\n",
      " [0.33333333 0.66666667]\n",
      " [1.         0.66666667]] \n",
      "actual output\n",
      " [[0.92]\n",
      " [0.86]\n",
      " [0.89]]\n"
     ]
    }
   ],
   "source": [
    "import numpy as np\n",
    "\n",
    "X = np.array([[2,9],[1,6],[3,6]], dtype=float)\n",
    "Y = np.array([[92],[86],[89]], dtype=float)\n",
    "X = X/np.amax(X, axis=0)\n",
    "actual_output = Y/100\n",
    "\n",
    "print('normalised i/p\\n',X,'\\nactual output\\n',actual_output)"
   ]
  },
  {
   "cell_type": "code",
   "execution_count": 7,
   "id": "9ec58920",
   "metadata": {},
   "outputs": [],
   "source": [
    "def sigmoid(x):\n",
    "  return 1/(1+np.exp(x))\n",
    "\n",
    "def derivative_sigmoid(x):\n",
    "  return x * (1-x)"
   ]
  },
  {
   "cell_type": "code",
   "execution_count": 8,
   "id": "923d8609",
   "metadata": {},
   "outputs": [],
   "source": [
    "epoch = 1000\n",
    "learning_rate = 0.15\n",
    "inputlayer_neurons = 2\n",
    "hiddenlayer_neurons = 3\n",
    "outputlayer_neurons = 1\n",
    "\n",
    "wh = np.random.uniform(low=-0.05, high=0.05, size=(inputlayer_neurons, hiddenlayer_neurons))\n",
    "bh = np.random.uniform(low=-0.05, high=0.05, size=(1, hiddenlayer_neurons))\n",
    "\n",
    "wo = np.random.uniform(low=-0.05, high=0.05, size=(hiddenlayer_neurons, outputlayer_neurons))\n",
    "bo = np.random.uniform(low=-0.05, high=0.05, size=(1, outputlayer_neurons))\n",
    "\n",
    "# print(wh, wo, bh, bo)"
   ]
  },
  {
   "cell_type": "code",
   "execution_count": 9,
   "id": "a9fae502",
   "metadata": {},
   "outputs": [],
   "source": [
    "#training data\n",
    "for i in range(epoch):\n",
    "  #feed forward\n",
    "  net_h = np.dot(X, wh) + bh\n",
    "  sigma_h = sigmoid(net_h)\n",
    "\n",
    "  net_o = np.dot(sigma_h, wo) + bo\n",
    "  output = sigmoid(net_o)\n",
    "\n",
    "  #back propagation\n",
    "  #ouput layer error\n",
    "  eo = actual_output - output\n",
    "  outgrad = derivative_sigmoid(output)\n",
    "  d_output = eo * outgrad\n",
    "\n",
    "  #hidden layer error\n",
    "  eh = d_output.dot(wo.T)\n",
    "  hiddengrad = derivative_sigmoid(sigma_h)\n",
    "  d_hidden = eh * hiddengrad\n",
    "\n",
    "  #calc w = w + Δw\n",
    "  wh += X.T.dot(d_hidden) * learning_rate\n",
    "  wo += sigma_h.T.dot(d_output) * learning_rate\n",
    "\n",
    "  sum_error = 0\n",
    "  for j in range(len(actual_output)):\n",
    "    sum_error += (actual_output - output)**2\n",
    "  \n",
    "  sum_error /= 2\n",
    "  #print(f'Epoch {i} \\nError {sum_error}')"
   ]
  },
  {
   "cell_type": "code",
   "execution_count": 10,
   "id": "cfefdb7d",
   "metadata": {},
   "outputs": [
    {
     "name": "stdout",
     "output_type": "stream",
     "text": [
      "Normalized Input: \n",
      "[[0.66666667 1.        ]\n",
      " [0.33333333 0.66666667]\n",
      " [1.         0.66666667]]\n",
      "Actual Output: \n",
      "[[0.92]\n",
      " [0.86]\n",
      " [0.89]]\n",
      "Predicted Output: \n",
      " [[0.50040357]\n",
      " [0.4405309 ]\n",
      " [0.49783607]]\n"
     ]
    }
   ],
   "source": [
    "print(\"Normalized Input: \\n\" + str(X))\n",
    "print(\"Actual Output: \\n\" + str(actual_output))\n",
    "print(\"Predicted Output: \\n\" ,output)"
   ]
  }
 ],
 "metadata": {
  "kernelspec": {
   "display_name": "Python 3",
   "language": "python",
   "name": "python3"
  },
  "language_info": {
   "codemirror_mode": {
    "name": "ipython",
    "version": 3
   },
   "file_extension": ".py",
   "mimetype": "text/x-python",
   "name": "python",
   "nbconvert_exporter": "python",
   "pygments_lexer": "ipython3",
   "version": "3.9.6"
  }
 },
 "nbformat": 4,
 "nbformat_minor": 5
}
