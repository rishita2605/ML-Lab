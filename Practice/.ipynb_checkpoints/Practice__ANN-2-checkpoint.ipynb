{
 "cells": [
  {
   "cell_type": "code",
   "execution_count": 1,
   "metadata": {},
   "outputs": [
    {
     "name": "stdout",
     "output_type": "stream",
     "text": [
      "input\n",
      "[[0.66666667 1.        ]\n",
      " [0.33333333 0.55555556]\n",
      " [1.         0.66666667]]\n",
      "output\n",
      "[[92.]\n",
      " [89.]\n",
      " [78.]]\n"
     ]
    }
   ],
   "source": [
    "import numpy as np\n",
    "X = np.array(([2,9], [1,5], [3,6]), dtype = float)\n",
    "Y = np.array(([92], [89], [78]), dtype = float)\n",
    "X = X/np.amax(X, axis=0)\n",
    "actual_output = Y/100\n",
    "\n",
    "print(f'input\\n{X}')\n",
    "print(f'output\\n{Y}')\n"
   ]
  },
  {
   "cell_type": "code",
   "execution_count": 6,
   "metadata": {},
   "outputs": [],
   "source": [
    "#init\n",
    "EPOCH = 1000\n",
    "eta = 0.15\n",
    "num_ip_neurons = 2\n",
    "num_hidden_neurons = 3\n",
    "num_op_neurons = 1\n",
    "\n",
    "wh = np.random.uniform(low = -0.05, high = 0.05, size = (num_ip_neurons, num_hidden_neurons))\n",
    "bh = np.random.uniform(low = -0.05, high = 0.05, size = (1, num_hidden_neurons))\n",
    "\n",
    "wo = np.random.uniform(low = -0.05, high = 0.05, size = )"
   ]
  }
 ],
 "metadata": {
  "interpreter": {
   "hash": "171ef77c600712421402a5338eca9e35ba809d2803a8fd1940cf4c7eec5cd8a9"
  },
  "kernelspec": {
   "display_name": "Python 3",
   "language": "python",
   "name": "python3"
  },
  "language_info": {
   "codemirror_mode": {
    "name": "ipython",
    "version": 3
   },
   "file_extension": ".py",
   "mimetype": "text/x-python",
   "name": "python",
   "nbconvert_exporter": "python",
   "pygments_lexer": "ipython3",
   "version": "3.8.8"
  }
 },
 "nbformat": 4,
 "nbformat_minor": 2
}
