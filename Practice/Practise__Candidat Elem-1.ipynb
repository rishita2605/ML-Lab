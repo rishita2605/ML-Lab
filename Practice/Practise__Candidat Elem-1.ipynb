{
 "cells": [
  {
   "cell_type": "code",
   "execution_count": 10,
   "metadata": {},
   "outputs": [
    {
     "data": {
      "text/plain": [
       "[('Sunny', 'Warm', 'Normal', 'Strong', 'Warm', 'Same', 'Y'),\n",
       " ('Sunny', 'Warm', 'High', 'Strong', 'Warm', 'Same', 'Y'),\n",
       " ('Rainy', 'Cold', 'High', 'Strong', 'Warm', 'Change', 'N'),\n",
       " ('Sunny', 'Warm', 'High', 'Strong', 'Cool', 'Change', 'Y')]"
      ]
     },
     "execution_count": 10,
     "metadata": {},
     "output_type": "execute_result"
    }
   ],
   "source": [
    "import csv\n",
    "with open('enjoySport.csv') as csvFile:\n",
    "  examples = [tuple(line)[1:] for line in csv.reader(csvFile)]\n",
    "\n",
    "examples = examples[1:]\n",
    "examples"
   ]
  },
  {
   "cell_type": "code",
   "execution_count": 11,
   "metadata": {},
   "outputs": [],
   "source": [
    "def s_0(n):\n",
    "  return ('0',)*n\n",
    "\n",
    "def g_0(n):\n",
    "  return ('?', )*n"
   ]
  },
  {
   "cell_type": "code",
   "execution_count": 19,
   "metadata": {},
   "outputs": [
    {
     "data": {
      "text/plain": [
       "[['Rainy', 'Sunny'],\n",
       " ['Cold', 'Warm'],\n",
       " ['High', 'Normal'],\n",
       " ['Strong'],\n",
       " ['Cool', 'Warm'],\n",
       " ['Change', 'Same'],\n",
       " ['N', 'Y']]"
      ]
     },
     "execution_count": 19,
     "metadata": {},
     "output_type": "execute_result"
    }
   ],
   "source": [
    "def get_domains(examples):\n",
    "  d = [set() for x in examples[0]]\n",
    "  for x in examples:\n",
    "    for ind, xi in enumerate(x):\n",
    "      d[ind].add(xi)\n",
    "  \n",
    "  return [list(sorted(x)) for x in d]\n",
    "get_domains(examples)"
   ]
  },
  {
   "cell_type": "code",
   "execution_count": 13,
   "metadata": {},
   "outputs": [],
   "source": [
    "def more_general(h1, h2):\n",
    "  mg_flags = list()\n",
    "  for h,x in zip(h1, h2):\n",
    "    flag = h == '?' or (h!='0' and (h==x or x=='0'))\n",
    "    mg_flags.append(flag)\n",
    "  \n",
    "  return all(mg_flags)"
   ]
  },
  {
   "cell_type": "code",
   "execution_count": 14,
   "metadata": {},
   "outputs": [],
   "source": [
    "def min_specialisation(hg, x, domains):\n",
    "  result = []\n",
    "  for i in range(len(hg)):\n",
    "    if hg[i] == '?':\n",
    "      for val in domains[i]:\n",
    "        if val != x[i]:\n",
    "          hg_new = hg[:i] + (val, ) + hg[i+1:]\n",
    "          result.append(hg_new)\n",
    "    \n",
    "    if hg[i] != '0':\n",
    "      hg_new = hg[:i] + ('0', ) + hg[i+1:]\n",
    "      result.append(hg_new)\n",
    "  \n",
    "  return result"
   ]
  },
  {
   "cell_type": "code",
   "execution_count": 15,
   "metadata": {},
   "outputs": [],
   "source": [
    "def min_generalisation(hs, x):\n",
    "  hs_new = list(hs)\n",
    "  for i in range(len(hs)):\n",
    "    if not more_general(hs[i:i+1], x[i:i+1]):\n",
    "      hs_new[i] = '?' if hs[i] != '0' else x[i]\n",
    "  return [tuple(hs_new)]"
   ]
  },
  {
   "cell_type": "code",
   "execution_count": 16,
   "metadata": {},
   "outputs": [],
   "source": [
    "def specialise_G(S, G, x, domains):\n",
    "  G_prev = list(G)\n",
    "  for g in G_prev:\n",
    "    if g not in G:\n",
    "      continue\n",
    "    if more_general(g, x):\n",
    "      G.remove(g)\n",
    "      G_minus = min_specialisation(g, x, domains)\n",
    "      G.update([h for h in G_minus if any([more_general(h, s) for s in S])])\n",
    "      G.difference_update([h for h in G if any([more_general(h1, h) for h1 in G if h != h1])])\n",
    "  \n",
    "  return G\n"
   ]
  },
  {
   "cell_type": "code",
   "execution_count": 17,
   "metadata": {},
   "outputs": [],
   "source": [
    "def generalise_S(S, G, x):\n",
    "  S_prev = list(S)\n",
    "\n",
    "  for s in S_prev:\n",
    "    if s not in S:\n",
    "      continue\n",
    "    if not more_general(s, x):\n",
    "      S.remove(s)\n",
    "      Splus = min_generalisation(s, x)\n",
    "\n",
    "      S.update([h for h in Splus if any(more_general(g, h) for g in G)])\n",
    "      S.difference_update([h for h in S if any(more_general(h1, h) for h1 in S if h!=h1)])\n",
    "  \n",
    "  return S\n"
   ]
  },
  {
   "cell_type": "code",
   "execution_count": 18,
   "metadata": {},
   "outputs": [
    {
     "name": "stdout",
     "output_type": "stream",
     "text": [
      "[['Rainy', 'Sunny'], ['Cold', 'Warm'], ['High', 'Normal'], ['Strong'], ['Cool', 'Warm'], ['Change', 'Same']]\n",
      "S[0]->{('0', '0', '0', '0', '0', '0')}\n",
      "G[0]->{('?', '?', '?', '?', '?', '?')}\n",
      "Y\n",
      "S[1]->{('Sunny', 'Warm', 'Normal', 'Strong', 'Warm', 'Same')}\n",
      "G[1]->{('?', '?', '?', '?', '?', '?')}\n",
      "Y\n",
      "S[2]->{('Sunny', 'Warm', '?', 'Strong', 'Warm', 'Same')}\n",
      "G[2]->{('?', '?', '?', '?', '?', '?')}\n",
      "N\n",
      "S[3]->{('Sunny', 'Warm', '?', 'Strong', 'Warm', 'Same')}\n",
      "G[3]->{('Sunny', '?', '?', '?', '?', '?'), ('?', '?', '?', '?', '?', 'Same'), ('?', 'Warm', '?', '?', '?', '?')}\n",
      "Y\n",
      "S[4]->{('Sunny', 'Warm', '?', 'Strong', '?', '?')}\n",
      "G[4]->{('Sunny', '?', '?', '?', '?', '?'), ('?', 'Warm', '?', '?', '?', '?')}\n"
     ]
    }
   ],
   "source": [
    "domains = get_domains(examples)[:-1]\n",
    "print(domains)\n",
    "S = set([s_0(len(domains))])\n",
    "G = set([g_0(len(domains))])\n",
    "i = 0\n",
    "\n",
    "print(f'S[{i}]->{S}')\n",
    "print(f'G[{i}]->{G}')\n",
    "\n",
    "for ex in examples:\n",
    "  i+=1\n",
    "  ex = list(ex)\n",
    "  x, label = ex[:-1], ex[-1]\n",
    "  print(label)\n",
    "  if label == 'Y':\n",
    "    G = {g for g in G if more_general(g, x)}\n",
    "    S = generalise_S(S, G, x)\n",
    "  elif label == 'N':\n",
    "    S = {s for s in S if not more_general(s, x)}\n",
    "    G = specialise_G(S, G, x, domains)\n",
    "  \n",
    "  print(f'S[{i}]->{S}')\n",
    "  print(f'G[{i}]->{G}')\n",
    "  "
   ]
  }
 ],
 "metadata": {
  "interpreter": {
   "hash": "171ef77c600712421402a5338eca9e35ba809d2803a8fd1940cf4c7eec5cd8a9"
  },
  "kernelspec": {
   "display_name": "Python 3.8.8 ('base')",
   "language": "python",
   "name": "python3"
  },
  "language_info": {
   "codemirror_mode": {
    "name": "ipython",
    "version": 3
   },
   "file_extension": ".py",
   "mimetype": "text/x-python",
   "name": "python",
   "nbconvert_exporter": "python",
   "pygments_lexer": "ipython3",
   "version": "3.8.8"
  },
  "orig_nbformat": 4
 },
 "nbformat": 4,
 "nbformat_minor": 2
}
