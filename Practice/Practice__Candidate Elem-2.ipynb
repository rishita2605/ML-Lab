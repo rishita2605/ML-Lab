{
 "cells": [
  {
   "cell_type": "code",
   "execution_count": 88,
   "metadata": {},
   "outputs": [
    {
     "data": {
      "text/plain": [
       "[('Sunny', 'Warm', 'Normal', 'Strong', 'Warm', 'Same', 'Y'),\n",
       " ('Sunny', 'Warm', 'High', 'Strong', 'Warm', 'Same', 'Y'),\n",
       " ('Rainy', 'Cold', 'High', 'Strong', 'Warm', 'Change', 'N'),\n",
       " ('Sunny', 'Warm', 'High', 'Strong', 'Cool', 'Change', 'Y')]"
      ]
     },
     "execution_count": 88,
     "metadata": {},
     "output_type": "execute_result"
    }
   ],
   "source": [
    "import csv\n",
    "with open('enjoySport.csv') as csvFile:\n",
    "  examples = [tuple(line)[1:] for line in csv.reader(csvFile)]\n",
    "\n",
    "examples = examples[1:]\n",
    "examples"
   ]
  },
  {
   "cell_type": "code",
   "execution_count": 89,
   "metadata": {},
   "outputs": [],
   "source": [
    "def g_0(n):\n",
    "  return (\"?\",)*n\n",
    "\n",
    "def s_0(n):\n",
    "  return (\"0\",)*n"
   ]
  },
  {
   "cell_type": "code",
   "execution_count": 90,
   "metadata": {},
   "outputs": [],
   "source": [
    "def get_domains(examples):\n",
    "  d = [set() for x in examples[0]]\n",
    "  for x in examples:\n",
    "    for i, xi in enumerate(x):\n",
    "      d[i].add(xi)\n",
    "  \n",
    "  return [sorted(elem) for elem in d]\n",
    "\n",
    "# get_domains(examples)"
   ]
  },
  {
   "cell_type": "code",
   "execution_count": 91,
   "metadata": {},
   "outputs": [],
   "source": [
    "def more_general(h1, h2):\n",
    "  all_flags = []\n",
    "  for h,x in zip(h1, h2):\n",
    "    flag = h == \"?\" or (h!=\"0\" and (h==x  or x==\"0\"))\n",
    "    all_flags.append(flag)\n",
    "  \n",
    "  return all(all_flags)"
   ]
  },
  {
   "cell_type": "code",
   "execution_count": 92,
   "metadata": {},
   "outputs": [],
   "source": [
    "def min_generalisation(h, x):\n",
    "  h_new = list(h)\n",
    "  for i in range(len(h)):\n",
    "    if not more_general(h[i:i+1], x[i:i+1]):\n",
    "      h_new[i] = \"?\" if h[i] != \"0\" else x[i]\n",
    "  return [tuple(h_new)]"
   ]
  },
  {
   "cell_type": "code",
   "execution_count": 93,
   "metadata": {},
   "outputs": [],
   "source": [
    "def min_specialisation(h, x, domains):\n",
    "  result = []\n",
    "  for i in range(len(h)):\n",
    "    if h[i] == \"?\":\n",
    "      for val in domains[i]:\n",
    "        if val != x[i]:\n",
    "          h_new = h[:i] + (val,) + h[i+1:]\n",
    "          result.append(h_new)\n",
    "    elif h[i] != \"0\":\n",
    "      h_new = h[:i] + (\"0\",) + h[i+1:]\n",
    "      result.append(h_new)\n",
    "    \n",
    "  return result"
   ]
  },
  {
   "cell_type": "code",
   "execution_count": 94,
   "metadata": {},
   "outputs": [],
   "source": [
    "def generalise_S(x, S, G):\n",
    "  S_prev = list(S)\n",
    "  for s in S_prev:\n",
    "    if s not in S:\n",
    "      continue\n",
    "    if not more_general(s, x):\n",
    "      S.remove(s)\n",
    "      Splus = min_generalisation(s, x)\n",
    "\n",
    "      S.update([h for h in Splus if any([more_general(g,h) for g in G])])\n",
    "      S.difference_update([h for h in S if any([more_general(h, h1) for h1 in S if h!=h1])])\n",
    "  \n",
    "  return S\n"
   ]
  },
  {
   "cell_type": "code",
   "execution_count": 95,
   "metadata": {},
   "outputs": [],
   "source": [
    "def specialise_G(x, S, G, domains):\n",
    "  G_prev = list(G)\n",
    "  for g in G_prev:\n",
    "    if g not in G:\n",
    "      continue\n",
    "    if more_general(g, x):\n",
    "      G.remove(g)\n",
    "      G_minus = min_specialisation(g, x, domains)\n",
    "\n",
    "      G.update([h for h in G_minus if any([more_general(h,s) for s in S])])\n",
    "      G.difference_update([h for h in G if any([more_general(h1, h) for h1 in G if h!=h1])])\n",
    "\n",
    "  return G"
   ]
  },
  {
   "cell_type": "code",
   "execution_count": 96,
   "metadata": {},
   "outputs": [
    {
     "name": "stdout",
     "output_type": "stream",
     "text": [
      "G-0 -> {('?', '?', '?', '?', '?', '?')}\n",
      "S-0 -> {('0', '0', '0', '0', '0', '0')}\n",
      "G-1 -> {('?', '?', '?', '?', '?', '?')}\n",
      "S-1 -> {('Sunny', 'Warm', 'Normal', 'Strong', 'Warm', 'Same')}\n",
      "G-2 -> {('?', '?', '?', '?', '?', '?')}\n",
      "S-2 -> {('Sunny', 'Warm', '?', 'Strong', 'Warm', 'Same')}\n",
      "G-3 -> {('?', '?', '?', '?', '?', 'Same'), ('?', 'Warm', '?', '?', '?', '?'), ('Sunny', '?', '?', '?', '?', '?')}\n",
      "S-3 -> {('Sunny', 'Warm', '?', 'Strong', 'Warm', 'Same')}\n",
      "G-4 -> {('?', 'Warm', '?', '?', '?', '?'), ('Sunny', '?', '?', '?', '?', '?')}\n",
      "S-4 -> {('Sunny', 'Warm', '?', 'Strong', '?', '?')}\n"
     ]
    }
   ],
   "source": [
    "domains = get_domains(examples)[:-1]\n",
    "G = set([g_0(len(domains))])\n",
    "S = set([s_0(len(domains))])\n",
    "i = 0\n",
    "print(f'G-{i} -> {G}')\n",
    "print(f'S-{i} -> {S}')\n",
    "\n",
    "for xcx in examples:\n",
    "  i+=1\n",
    "  x, label = xcx[:-1], xcx[-1]\n",
    "  if label == \"Y\":\n",
    "    G = {g for g in G if more_general(g, x)}\n",
    "    S = generalise_S(x, S, G)\n",
    "  elif label == \"N\":\n",
    "    S = {s for s in S if not more_general(s, x)}\n",
    "    G = specialise_G(x, S, G, domains)\n",
    "  \n",
    "  print(f'G-{i} -> {G}')\n",
    "  print(f'S-{i} -> {S}')\n"
   ]
  }
 ],
 "metadata": {
  "interpreter": {
   "hash": "171ef77c600712421402a5338eca9e35ba809d2803a8fd1940cf4c7eec5cd8a9"
  },
  "kernelspec": {
   "display_name": "Python 3.8.8 ('base')",
   "language": "python",
   "name": "python3"
  },
  "language_info": {
   "codemirror_mode": {
    "name": "ipython",
    "version": 3
   },
   "file_extension": ".py",
   "mimetype": "text/x-python",
   "name": "python",
   "nbconvert_exporter": "python",
   "pygments_lexer": "ipython3",
   "version": "3.8.8"
  },
  "orig_nbformat": 4
 },
 "nbformat": 4,
 "nbformat_minor": 2
}
