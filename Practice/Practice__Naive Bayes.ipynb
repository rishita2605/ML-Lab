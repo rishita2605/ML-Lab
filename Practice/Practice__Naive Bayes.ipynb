{
 "cells": [
  {
   "cell_type": "code",
   "execution_count": 13,
   "metadata": {},
   "outputs": [],
   "source": [
    "import pandas as pd\n",
    "fname = 'pima-indians-diabetes.csv'\n",
    "df = pd.read_csv(fname)\n",
    "df = df.astype('float')\n",
    "\n",
    "train = df.sample(frac=0.8, random_state=105)\n",
    "test = df.drop(train.index)"
   ]
  },
  {
   "cell_type": "code",
   "execution_count": 14,
   "metadata": {},
   "outputs": [],
   "source": [
    "outcome_group = train.groupby(df.columns[-1])\n",
    "summaries = {}\n",
    "num_attr = len(df.columns) - 1\n",
    "for classvalue, instances in outcome_group:\n",
    "    attr_ls = []\n",
    "    mean = list(instances.mean(axis=0).values)\n",
    "    std_dev = list(instances.std(axis=0).values)\n",
    "    for i in range(num_attr):\n",
    "        attr_ls.append([mean[i], std_dev[i]])\n",
    "    summaries[classvalue] = attr_ls\n",
    "    "
   ]
  },
  {
   "cell_type": "code",
   "execution_count": 15,
   "metadata": {},
   "outputs": [],
   "source": [
    "import math\n",
    "def calcProb(x, mean, std_dev):\n",
    "    exponent = math.exp(-math.pow(x-mean, 2)/(2*math.pow(std_dev, 2)))\n",
    "    return 1/math.sqrt(2*math.pi*math.pow(std_dev, 2))*exponent"
   ]
  },
  {
   "cell_type": "code",
   "execution_count": 16,
   "metadata": {},
   "outputs": [],
   "source": [
    "def calcClassProbablities(summaries, X):\n",
    "    probablities = {}\n",
    "    for classValue, summ in summaries.items():\n",
    "        probablities[classValue] = 1\n",
    "        for i in range(len(summ)):\n",
    "            mean, std_dev = summ[i]\n",
    "            probablities[classValue] *= calcProb(X[i], mean, std_dev)\n",
    "        \n",
    "    return probablities\n",
    "        "
   ]
  },
  {
   "cell_type": "code",
   "execution_count": 17,
   "metadata": {},
   "outputs": [],
   "source": [
    "def predict(summaries, X):\n",
    "    probablities = calcClassProbablities(summaries, X)\n",
    "    bestLabel = None; bestProb = -1\n",
    "    \n",
    "    for label, prob in probablities.items():\n",
    "        if bestLabel is None or prob > bestProb:\n",
    "            bestLabel = label\n",
    "            bestProb = prob\n",
    "    \n",
    "    return bestLabel"
   ]
  },
  {
   "cell_type": "code",
   "execution_count": 18,
   "metadata": {},
   "outputs": [],
   "source": [
    "test_ls = test.values.tolist()\n",
    "predictions = []\n",
    "for i in range(len(test_ls)):\n",
    "    p = predict(summaries, test_ls[i])\n",
    "    predictions.append(p)"
   ]
  },
  {
   "cell_type": "code",
   "execution_count": 27,
   "metadata": {},
   "outputs": [
    {
     "name": "stdout",
     "output_type": "stream",
     "text": [
      "accuracy is -> 75.16339869281046\n"
     ]
    }
   ],
   "source": [
    "count = 0\n",
    "for i in range(len(test)):\n",
    "    if test.iloc[i, -1] == predictions[i]:\n",
    "        count+=1\n",
    "print(f'accuracy is -> {(count/float(len(test))) * 100.0}')"
   ]
  }
 ],
 "metadata": {
  "interpreter": {
   "hash": "171ef77c600712421402a5338eca9e35ba809d2803a8fd1940cf4c7eec5cd8a9"
  },
  "kernelspec": {
   "display_name": "Python 3",
   "language": "python",
   "name": "python3"
  },
  "language_info": {
   "codemirror_mode": {
    "name": "ipython",
    "version": 3
   },
   "file_extension": ".py",
   "mimetype": "text/x-python",
   "name": "python",
   "nbconvert_exporter": "python",
   "pygments_lexer": "ipython3",
   "version": "3.8.8"
  }
 },
 "nbformat": 4,
 "nbformat_minor": 2
}
