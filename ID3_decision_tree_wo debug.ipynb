{
 "cells": [
  {
   "cell_type": "code",
   "execution_count": 9,
   "id": "ec47b879",
   "metadata": {},
   "outputs": [],
   "source": [
    "import pandas as pd\n",
    "from collections import Counter\n",
    "df_tennis = pd.read_csv('PlayTennis.csv')\n",
    "#df_tennis=df_tennis[:11] #for checking accuracy\n"
   ]
  },
  {
   "cell_type": "code",
   "execution_count": 10,
   "id": "1178fcee",
   "metadata": {},
   "outputs": [],
   "source": [
    "#Function to calculate the entropy of collection S\n",
    "import math\n",
    "def entropy(probs):  \n",
    "    return sum( [-prob*math.log(prob, 2) for prob in probs])\n",
    "\n",
    "def entropy_of_list(ls):  \n",
    "\n",
    "    class_count = Counter(x for x in ls)# Counter calculates the proportion of class\n",
    "    total_instances = len(ls)  \n",
    "    probs = [x / total_instances for x in class_count.values()]  \n",
    "\n",
    "    return entropy(probs) # Call Entropy"
   ]
  },
  {
   "cell_type": "code",
   "execution_count": 11,
   "id": "98e8f735",
   "metadata": {},
   "outputs": [],
   "source": [
    "def information_gain(df, split_attr,tg_attr):\n",
    "    df_split = df.groupby(split_attr) # group the data based on attribute values\n",
    "    datalen = len(df.index)\n",
    "\n",
    "    df_agg = df_split.agg({tg_attr:[entropy_of_list, lambda x: len(x)/datalen]})[tg_attr]\n",
    "      \n",
    "    df_agg.columns=['Entropy','Proportion']\n",
    "\n",
    "    # Calculate Information Gain:\n",
    "    new_entropy = sum( df_agg['Entropy'] * df_agg['Proportion'])\n",
    "    old_entropy = entropy_of_list(df[tg_attr])\n",
    "    return old_entropy - new_entropy"
   ]
  },
  {
   "cell_type": "code",
   "execution_count": 12,
   "id": "5ab7fc8b",
   "metadata": {},
   "outputs": [],
   "source": [
    "def id3(df, tg_attr, attr, default_class=None,default_attr='S'):\n",
    "    pos_neg = Counter(x for x in df[tg_attr])# class of YES /NO\n",
    "\n",
    "    if len(pos_neg) == 1: # return Yes or No.\n",
    "        return next(iter(pos_neg))  \n",
    "    \n",
    "    elif df.empty or (not attr):\n",
    "        return default_class  # Return None for Empty Data Set otherwise Yes/No \n",
    "    \n",
    "    else:\n",
    "        default_class = max(pos_neg.keys()) #assigning whichever is higher -> YES and NO Class max(pos_neg. key = lambda x: pos_neg[x])\n",
    "        gains={}\n",
    "    \n",
    "        for a in attr:\n",
    "            gains[a] = information_gain(df, a, tg_attr)\n",
    "        \n",
    "        #best attribute   \n",
    "        best_attr = max(gains, key=lambda x: gains[x])\n",
    "       \n",
    "        tree = {best_attr:{}} # Initiate the tree with best attribute as a node  \n",
    "        attr.remove(best_attr) #remove the best attribute\n",
    "      \n",
    "        for attr_val, data in df.groupby(best_attr):\n",
    "            subtree = id3(data,tg_attr, attr,default_class,best_attr)\n",
    "            tree[best_attr][attr_val] = subtree\n",
    "\n",
    "        return tree"
   ]
  },
  {
   "cell_type": "code",
   "execution_count": 13,
   "id": "4f444def",
   "metadata": {},
   "outputs": [
    {
     "name": "stdout",
     "output_type": "stream",
     "text": [
      "List of Attributes: ['PlayTennis', 'Outlook', 'Temperature', 'Humidity', 'Wind']\n",
      "Predicting Attributes: ['Outlook', 'Temperature', 'Humidity', 'Wind']\n"
     ]
    }
   ],
   "source": [
    "# Get Predictor Names (all but 'class')\n",
    "attr = list(df_tennis.columns)\n",
    "print(\"List of Attributes:\", attr) \n",
    "attr.remove('PlayTennis') #Remove the class attribute \n",
    "print(\"Predicting Attributes:\", attr)"
   ]
  },
  {
   "cell_type": "code",
   "execution_count": 14,
   "id": "0d6ea631",
   "metadata": {},
   "outputs": [
    {
     "name": "stdout",
     "output_type": "stream",
     "text": [
      "\n",
      "\n",
      "The Resultant Decision Tree is :\n",
      "\n",
      "{'Outlook': {'Overcast': 'Yes',\n",
      "             'Rain': {'Wind': {'Strong': 'No', 'Weak': 'Yes'}},\n",
      "             'Sunny': {'Humidity': {'High': 'No', 'Normal': 'Yes'}}}}\n",
      "Best Attribute :\n",
      " Outlook\n",
      "Tree Keys:\n",
      " dict_keys(['Overcast', 'Rain', 'Sunny'])\n"
     ]
    }
   ],
   "source": [
    "from pprint import pprint\n",
    "tree = id3(df_tennis,'PlayTennis',attr)\n",
    "print(\"\\n\\nThe Resultant Decision Tree is :\\n\")\n",
    "pprint(tree)\n",
    "ba = next(iter(tree))\n",
    "print(\"Best Attribute :\\n\",ba)\n",
    "print(\"Tree Keys:\\n\",tree[ba].keys())"
   ]
  },
  {
   "cell_type": "code",
   "execution_count": 15,
   "id": "6ca142b6",
   "metadata": {},
   "outputs": [],
   "source": [
    "def classify(instance, tree,default=None): # Instance of Play Tennis with Predicted    \n",
    "    attribute = next(iter(tree)) # Outlook/Humidity/Wind       \n",
    "    if instance[attribute] in tree[attribute].keys(): # Value of the attributs in  set of Tree keys  \n",
    "        result = tree[attribute][instance[attribute]]\n",
    "        if isinstance(result, dict): # this is a tree, delve deeper\n",
    "            return classify(instance, result)\n",
    "        else:\n",
    "            return result # this is a label\n",
    "    else:\n",
    "        return default"
   ]
  },
  {
   "cell_type": "code",
   "execution_count": 16,
   "id": "6049214b",
   "metadata": {},
   "outputs": [
    {
     "name": "stdout",
     "output_type": "stream",
     "text": [
      "   PlayTennis   Outlook Temperature Humidity    Wind predicted\n",
      "11        Yes  Overcast        Mild     High  Strong       Yes\n",
      "12        Yes  Overcast         Hot   Normal    Weak       Yes\n",
      "13         No      Rain        Mild     High  Strong        No\n"
     ]
    }
   ],
   "source": [
    "\n",
    "df_new=pd.read_csv('PlayTennis.csv')\n",
    "df_new=df_new[11:]\n",
    "df_new['predicted'] = df_new.apply(classify, axis=1, args=(tree,'?')) \n",
    "print(df_new)"
   ]
  },
  {
   "cell_type": "code",
   "execution_count": null,
   "id": "8a8983c8",
   "metadata": {},
   "outputs": [],
   "source": []
  }
 ],
 "metadata": {
  "kernelspec": {
   "display_name": "Python 3",
   "language": "python",
   "name": "python3"
  },
  "language_info": {
   "codemirror_mode": {
    "name": "ipython",
    "version": 3
   },
   "file_extension": ".py",
   "mimetype": "text/x-python",
   "name": "python",
   "nbconvert_exporter": "python",
   "pygments_lexer": "ipython3",
   "version": "3.9.6"
  }
 },
 "nbformat": 4,
 "nbformat_minor": 5
}
