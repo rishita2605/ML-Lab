{
 "cells": [
  {
   "cell_type": "code",
   "execution_count": 2,
   "metadata": {},
   "outputs": [
    {
     "name": "stdout",
     "output_type": "stream",
     "text": [
      "The dataset is:\n",
      "     Sky AirTemp Humidity    Wind Water Forecast label\n",
      "0  Sunny    Warm   Normal  Strong  Warm     Same     Y\n",
      "1  Sunny    Warm     High  Strong  Warm     Same     Y\n",
      "2  Rainy    Cold     High  Strong  Warm   Change     N\n",
      "3  Sunny    Warm     High  Strong  Cool   Change     Y\n"
     ]
    }
   ],
   "source": [
    "import numpy as np\n",
    "import pandas as pd\n",
    "data = pd.read_csv('enjoySport1.csv')\n",
    "print('The dataset is:')\n",
    "print(data)"
   ]
  },
  {
   "cell_type": "code",
   "execution_count": 3,
   "metadata": {},
   "outputs": [
    {
     "name": "stdout",
     "output_type": "stream",
     "text": [
      "\n",
      " The concepts are:\n",
      " [['Sunny' 'Warm' 'Normal' 'Strong' 'Warm' 'Same']\n",
      " ['Sunny' 'Warm' 'High' 'Strong' 'Warm' 'Same']\n",
      " ['Rainy' 'Cold' 'High' 'Strong' 'Warm' 'Change']\n",
      " ['Sunny' 'Warm' 'High' 'Strong' 'Cool' 'Change']]\n",
      "\n",
      " The target is:\n",
      " ['Y' 'Y' 'N' 'Y']\n"
     ]
    }
   ],
   "source": [
    "concepts = np.array(data.iloc[:,0:-1])\n",
    "print('\\n The concepts are:\\n',concepts)\n",
    "target = np.array(data.iloc[:,-1])\n",
    "print('\\n The target is:\\n',target)"
   ]
  },
  {
   "cell_type": "code",
   "execution_count": 4,
   "metadata": {},
   "outputs": [],
   "source": [
    "def learn(concepts,target):\n",
    "    specific_h = concepts[0].copy()\n",
    "    general_h = [[\"?\" for i in range (len(specific_h))] for i in range(len(specific_h))]\n",
    "    for i,h in enumerate(concepts):\n",
    "        if target[i] == \"Yes\":\n",
    "            for x in range(len(specific_h)):\n",
    "                if h[x]!=specific_h[x]:\n",
    "                    specific_h[x]='?'\n",
    "                    general_h[x][x]='?'\n",
    "        \n",
    "        if target[i] == \"No\":\n",
    "            for x in range(len(specific_h)):\n",
    "                if h[x]!=specific_h[x]:\n",
    "                    general_h[x][x]=specific_h[x]\n",
    "                else:\n",
    "                    general_h[x][x]='?'\n",
    "    indices = [i for i, val in enumerate(general_h) if val == ['?','?','?','?','?','?']]\n",
    "    for i in indices:\n",
    "        general_h.remove(['?','?','?','?','?','?'])\n",
    "    return specific_h,general_h"
   ]
  },
  {
   "cell_type": "code",
   "execution_count": 5,
   "metadata": {},
   "outputs": [
    {
     "name": "stdout",
     "output_type": "stream",
     "text": [
      "\n",
      " Final S: ['Sunny' 'Warm' 'Normal' 'Strong' 'Warm' 'Same']\n",
      "\n",
      " Final G: []\n"
     ]
    }
   ],
   "source": [
    "s_final, g_final = learn(concepts,target)\n",
    "print(\"\\n Final S:\", s_final)\n",
    "print(\"\\n Final G:\", g_final)"
   ]
  }
 ],
 "metadata": {
  "interpreter": {
   "hash": "67c5282be14de62632093de92d89477a488b37a8c180f59635e4453325c46ae2"
  },
  "kernelspec": {
   "display_name": "Python 3.9.6 64-bit",
   "language": "python",
   "name": "python3"
  },
  "language_info": {
   "codemirror_mode": {
    "name": "ipython",
    "version": 3
   },
   "file_extension": ".py",
   "mimetype": "text/x-python",
   "name": "python",
   "nbconvert_exporter": "python",
   "pygments_lexer": "ipython3",
   "version": "3.9.6"
  },
  "orig_nbformat": 4
 },
 "nbformat": 4,
 "nbformat_minor": 2
}
