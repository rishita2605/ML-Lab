{
 "cells": [
  {
   "cell_type": "markdown",
   "metadata": {},
   "source": [
    "<h1> Candidate Elimination </h1>\n",
    "<pre>\n",
    "Initialize G to the set of maximally general hypotheses in H\n",
    "Initial S to the set of maximally specific hypotheses in H\n",
    "</pre>\n",
    "<pre>\n",
    "If d is a positive example {\n",
    "    Remove from G any hypothesis inconsistent with d\n",
    "    For each hypothesis s in S that is not consistent with d{\n",
    "        Remove s from S\n",
    "        Add to S all minimal generalizations h of such that{\n",
    "            h is consistent with d, and some member of G is more general than h\n",
    "        }\n",
    "        Remove from S any hypothesis that is more general than another hypothesis in S\n",
    "    }\n",
    "}\n",
    "</pre> \n",
    "<pre>\n",
    "If d is a negative example {\n",
    "    Remove from S any hypothesis inconsistent with d\n",
    "    For each hypothesis g in G that is not consistent with d{\n",
    "        Remove g from G\n",
    "        Add to G all minimal specializations h of g such that {\n",
    "            h is consistent with d and some member of S is more specific than h\n",
    "        }\n",
    "        Remove from G any hypothesis that is less general than another hypothesis in G.\n",
    "    }\n",
    "}\n",
    "</pre>"
   ]
  },
  {
   "cell_type": "code",
   "execution_count": 1,
   "metadata": {},
   "outputs": [],
   "source": [
    "def g_0(n):\n",
    "    return (\"?\",)*n\n",
    "\n",
    "def s_0(n):\n",
    "    return ('0',)*n"
   ]
  },
  {
   "cell_type": "code",
   "execution_count": 16,
   "metadata": {},
   "outputs": [
    {
     "data": {
      "text/plain": [
       "True"
      ]
     },
     "execution_count": 16,
     "metadata": {},
     "output_type": "execute_result"
    }
   ],
   "source": [
    "def more_general(h1, h2):\n",
    "    #h1 -> hypothesis h2-> example (in generic)\n",
    "    more_general_parts = []\n",
    "    for x, y in zip(h1, h2):\n",
    "        mg = x == \"?\" or (x != \"0\" and (x == y or y == \"0\"))\n",
    "        more_general_parts.append(mg)\n",
    "    return all(more_general_parts)\n",
    "more_general(['?', '?', '?', '?', '?', '?'], ['Sunny', 'Warm', 'Normal', 'Strong', 'Warm', 'Same'])"
   ]
  },
  {
   "cell_type": "code",
   "execution_count": 3,
   "metadata": {},
   "outputs": [
    {
     "data": {
      "text/plain": [
       "[(1, 3), (2, 4), (3, 5)]"
      ]
     },
     "execution_count": 3,
     "metadata": {},
     "output_type": "execute_result"
    }
   ],
   "source": [
    "\n",
    "l1 = [1, 2, 3]\n",
    "l2 = [3, 4, 5]\n",
    "\n",
    "list(zip(l1, l2))"
   ]
  },
  {
   "cell_type": "code",
   "execution_count": null,
   "metadata": {},
   "outputs": [],
   "source": []
  },
  {
   "cell_type": "code",
   "execution_count": 4,
   "metadata": {},
   "outputs": [],
   "source": [
    "# min_generalizations\n",
    "def fulfills(example, hypothesis):\n",
    "    # hypothesis -> g or s\n",
    "    ### the implementation is the same as for hypotheses:\n",
    "    return more_general(hypothesis, example)\n",
    "\n",
    "def min_generalizations(h, x):\n",
    "    h_new = list(h)\n",
    "    for i in range(len(h)):\n",
    "        if not fulfills(x[i:i+1], h[i:i+1]):\n",
    "            h_new[i] = '?' if h[i] != '0' else x[i]\n",
    "    return [tuple(h_new)]"
   ]
  },
  {
   "cell_type": "code",
   "execution_count": 5,
   "metadata": {},
   "outputs": [
    {
     "data": {
      "text/plain": [
       "[('rainy', 'windy', '?')]"
      ]
     },
     "execution_count": 5,
     "metadata": {},
     "output_type": "execute_result"
    }
   ],
   "source": [
    "min_generalizations(h=('0', '0'  , 'sunny'), \n",
    "                    x=('rainy', 'windy', 'cloudy'))"
   ]
  },
  {
   "cell_type": "code",
   "execution_count": 6,
   "metadata": {},
   "outputs": [],
   "source": [
    "def min_specializations(h, domains, x):\n",
    "    results = []\n",
    "    for i in range(len(h)):\n",
    "        if h[i] == \"?\":\n",
    "            for val in domains[i]:\n",
    "                if x[i] != val:\n",
    "                    h_new = h[:i] + (val,) + h[i+1:]\n",
    "                    results.append(h_new)\n",
    "        elif h[i] != \"0\":\n",
    "            h_new = h[:i] + ('0',) + h[i+1:]\n",
    "            results.append(h_new)\n",
    "    return results"
   ]
  },
  {
   "cell_type": "code",
   "execution_count": 7,
   "metadata": {},
   "outputs": [
    {
     "data": {
      "text/plain": [
       "[('a', 'x'), ('c', 'x'), ('?', '0')]"
      ]
     },
     "execution_count": 7,
     "metadata": {},
     "output_type": "execute_result"
    }
   ],
   "source": [
    "min_specializations(h=('?', 'x',), \n",
    "                    domains=[['a', 'b', 'c'], ['x', 'y']], \n",
    "                    x=('b', 'x'))"
   ]
  },
  {
   "cell_type": "markdown",
   "metadata": {},
   "source": []
  },
  {
   "cell_type": "code",
   "execution_count": 8,
   "metadata": {},
   "outputs": [
    {
     "data": {
      "text/plain": [
       "[('Sunny', 'Warm', 'Normal', 'Strong', 'Warm', 'Same', 'Y'),\n",
       " ('Sunny', 'Warm', 'High', 'Strong', 'Warm', 'Same', 'Y'),\n",
       " ('Rainy', 'Cold', 'High', 'Strong', 'Warm', 'Change', 'N'),\n",
       " ('Sunny', 'Warm', 'High', 'Strong', 'Cool', 'Change', 'Y')]"
      ]
     },
     "execution_count": 8,
     "metadata": {},
     "output_type": "execute_result"
    }
   ],
   "source": [
    "#dataset \n",
    "import csv\n",
    "\n",
    "with open('enjoySport.csv')  as csvFile:\n",
    "        examples = [tuple(line)[1:] for line in csv.reader(csvFile)]\n",
    "examples=examples[1:] #examples[start:end:step]\n",
    "examples"
   ]
  },
  {
   "cell_type": "code",
   "execution_count": 9,
   "metadata": {},
   "outputs": [
    {
     "name": "stdout",
     "output_type": "stream",
     "text": [
      "[{'Rainy', 'Sunny'}, {'Cold', 'Warm'}, {'Normal', 'High'}, {'Strong'}, {'Warm', 'Cool'}, {'Same', 'Change'}, {'N', 'Y'}]\n"
     ]
    },
    {
     "data": {
      "text/plain": [
       "[['Rainy', 'Sunny'],\n",
       " ['Cold', 'Warm'],\n",
       " ['High', 'Normal'],\n",
       " ['Strong'],\n",
       " ['Cool', 'Warm'],\n",
       " ['Change', 'Same'],\n",
       " ['N', 'Y']]"
      ]
     },
     "execution_count": 9,
     "metadata": {},
     "output_type": "execute_result"
    }
   ],
   "source": [
    "#getting all the existing domains \n",
    "def get_domains(examples):\n",
    "    count=0\n",
    "    d = [set() for i in examples[0]] # set so as to not repeat the domainss __ d -> list of sets \n",
    "    for x in examples:\n",
    "        count+=1\n",
    "        # print('parent row', list(enumerate(x)))\n",
    "        for i, xi in enumerate(x):\n",
    "            d[i].add(xi)\n",
    "            # print(d)\n",
    "    print(d)\n",
    "    return [list(sorted(x)) for x in d] # sorting alphabetically - list of list(2D)\n",
    "\n",
    "get_domains(examples)"
   ]
  },
  {
   "cell_type": "code",
   "execution_count": 10,
   "metadata": {},
   "outputs": [],
   "source": [
    "def generalize_S(x, G, S):\n",
    "    S_prev = list(S)\n",
    "    for s in S_prev:\n",
    "        if s not in S:\n",
    "            continue\n",
    "        if not fulfills(x, s):\n",
    "            S.remove(s)\n",
    "            Splus = min_generalizations(s, x)\n",
    "            ## keep only generalizations that have a counterpart in G\n",
    "            S.update([h for h in Splus if any([more_general(g,h) for g in G])])\n",
    "            ## remove hypotheses less specific than any other in S\n",
    "            S.difference_update([h for h in S if any([more_general(h, h1) \n",
    "                                      for h1 in S if h != h1])])\n",
    "    return S"
   ]
  },
  {
   "cell_type": "code",
   "execution_count": 11,
   "metadata": {},
   "outputs": [],
   "source": [
    "def specialize_G(x, domains, G, S):\n",
    "    G_prev = list(G)\n",
    "    for g in G_prev:\n",
    "        if g not in G:  \n",
    "            continue\n",
    "        if fulfills(x, g):\n",
    "            G.remove(g)\n",
    "            Gminus = min_specializations(g, domains, x)\n",
    "            ## keep only specializations that have a conuterpart in S\n",
    "            G.update([h for h in Gminus if any([more_general(h, s)\n",
    "                                                for s in S])])\n",
    "            ## remove hypotheses less general than any other in G\n",
    "            G.difference_update([h for h in G if \n",
    "                                 any([more_general(g1, h) \n",
    "                                      for g1 in G if h != g1])])\n",
    "    return G"
   ]
  },
  {
   "cell_type": "code",
   "execution_count": 15,
   "metadata": {},
   "outputs": [
    {
     "name": "stdout",
     "output_type": "stream",
     "text": [
      "[{'Rainy', 'Sunny'}, {'Cold', 'Warm'}, {'Normal', 'High'}, {'Strong'}, {'Warm', 'Cool'}, {'Same', 'Change'}, {'N', 'Y'}]\n",
      "\n",
      " S[0]: {('0', '0', '0', '0', '0', '0')}\n",
      " G[0]: {('?', '?', '?', '?', '?', '?')}\n",
      "fulfills  ['Sunny', 'Warm', 'Normal', 'Strong', 'Warm', 'Same'] ('?', '?', '?', '?', '?', '?')\n",
      "\n",
      " S[1]: {('Sunny', 'Warm', 'Normal', 'Strong', 'Warm', 'Same')}\n",
      " G[1]: {('?', '?', '?', '?', '?', '?')}\n",
      "fulfills  ['Sunny', 'Warm', 'High', 'Strong', 'Warm', 'Same'] ('?', '?', '?', '?', '?', '?')\n",
      "\n",
      " S[2]: {('Sunny', 'Warm', '?', 'Strong', 'Warm', 'Same')}\n",
      " G[2]: {('?', '?', '?', '?', '?', '?')}\n",
      "\n",
      " S[3]: {('Sunny', 'Warm', '?', 'Strong', 'Warm', 'Same')}\n",
      " G[3]: {('?', 'Warm', '?', '?', '?', '?'), ('Sunny', '?', '?', '?', '?', '?'), ('?', '?', '?', '?', '?', 'Same')}\n",
      "fulfills  ['Sunny', 'Warm', 'High', 'Strong', 'Cool', 'Change'] ('?', 'Warm', '?', '?', '?', '?')\n",
      "fulfills  ['Sunny', 'Warm', 'High', 'Strong', 'Cool', 'Change'] ('Sunny', '?', '?', '?', '?', '?')\n",
      "\n",
      " S[4]: {('Sunny', 'Warm', '?', 'Strong', '?', '?')}\n",
      " G[4]: {('?', 'Warm', '?', '?', '?', '?'), ('Sunny', '?', '?', '?', '?', '?')}\n"
     ]
    }
   ],
   "source": [
    "#candidate elimination\n",
    "domains = get_domains(examples)[:-1] # except for label(Y or N)\n",
    "\n",
    "G = set([g_0(len(domains))])\n",
    "S = set([s_0(len(domains))])\n",
    "i=0\n",
    "print(f'\\n S[{i}]: {S}')\n",
    "print(f' G[{i}]: {G}')\n",
    "\n",
    "\n",
    "for xcx in examples:\n",
    "    i=i+1\n",
    "    xcx=list(xcx)\n",
    "    x, cx = xcx[:-1], xcx[-1]  # Splitting data into attributes and decisions(Y or N)\n",
    "    if cx=='Y': # x is positive example\n",
    "        G = {g for g in G if fulfills(x, g)}\n",
    "        for g in G:\n",
    "            if fulfills(x, g):\n",
    "                print('fulfills ',x,g)\n",
    "        S = generalize_S(x, G, S)\n",
    "    else: # x is negative example\n",
    "        S = {s for s in S if not fulfills(x, s)}\n",
    "        G = specialize_G(x, domains, G, S)\n",
    "    print(f'\\n S[{i}]: {S}')\n",
    "    print(f' G[{i}]: {G}')"
   ]
  },
  {
   "cell_type": "code",
   "execution_count": null,
   "metadata": {},
   "outputs": [],
   "source": []
  }
 ],
 "metadata": {
  "kernelspec": {
   "display_name": "Python 3",
   "language": "python",
   "name": "python3"
  },
  "language_info": {
   "codemirror_mode": {
    "name": "ipython",
    "version": 3
   },
   "file_extension": ".py",
   "mimetype": "text/x-python",
   "name": "python",
   "nbconvert_exporter": "python",
   "pygments_lexer": "ipython3",
   "version": "3.9.6"
  }
 },
 "nbformat": 4,
 "nbformat_minor": 4
}
