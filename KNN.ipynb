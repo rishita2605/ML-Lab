{
 "cells": [
  {
   "cell_type": "code",
   "execution_count": 10,
   "id": "bc483cb2",
   "metadata": {},
   "outputs": [],
   "source": [
    "import numpy as np\n",
    "import matplotlib.pyplot as plt\n",
    "import pandas as pd\n",
    "from sklearn.datasets import load_iris\n",
    "iris = load_iris()\n",
    "# print(iris.DESCR) #to print/check dataset\n",
    "X = iris.data\n",
    "y = iris.target\n",
    "# print(X[:5])\n",
    "# print(y)\n",
    "labels = iris.target_names\n",
    "# print(labels)\n",
    "target_names = [labels[t] for t in y] #storing the labels names in a list (string)\n",
    "# print(target_names)"
   ]
  },
  {
   "cell_type": "code",
   "execution_count": 2,
   "id": "ff3eda66",
   "metadata": {},
   "outputs": [
    {
     "name": "stdout",
     "output_type": "stream",
     "text": [
      "Training set (80%) 120\n",
      "Test set (20%) 30\n"
     ]
    }
   ],
   "source": [
    "#spliting our model into training & testing\n",
    "from sklearn.model_selection import train_test_split\n",
    "X_train, X_test, y_train, y_test = train_test_split(X, y, test_size = 0.20, random_state = 23) #20% test\n",
    "\n",
    "print('Training set (80%)', len(X_train))\n",
    "print('Test set (20%)', len(X_test))"
   ]
  },
  {
   "cell_type": "code",
   "execution_count": 3,
   "id": "9d628042",
   "metadata": {},
   "outputs": [
    {
     "name": "stdout",
     "output_type": "stream",
     "text": [
      "[2 2 1 0 2 1 0 2 0 1 1 0 2 0 0 1 1 1 2 0 2 0 0 0 2 0 0 2 1 1]\n",
      "[2 2 1 0 2 1 0 2 0 1 1 0 2 0 0 2 1 1 2 0 2 0 0 0 2 0 0 2 1 1]\n",
      "[1 1 1 0 1 1 1 1 1 1 1 0 1 0 1 1 1 1 1 1 1 0 0 0 1 0 0 1 1 1]\n"
     ]
    }
   ],
   "source": [
    "#train the model \n",
    "from sklearn.neighbors import KNeighborsClassifier\n",
    "\n",
    "knn = KNeighborsClassifier(n_neighbors=1)\n",
    "knn.fit(X_train, y_train)\n",
    "y_pred = knn.predict(X_test)\n",
    "print(y_pred)\n",
    "\n",
    "knn5 = KNeighborsClassifier(n_neighbors=5)\n",
    "knn5.fit(X_train, y_train)\n",
    "y_pred5 = knn5.predict(X_test)\n",
    "print(y_pred5)\n",
    "\n",
    "knn80 = KNeighborsClassifier(n_neighbors=80)\n",
    "knn80.fit(X_train, y_train)\n",
    "y_pred80 = knn80.predict(X_test)\n",
    "print(y_pred80)"
   ]
  },
  {
   "cell_type": "code",
   "execution_count": 4,
   "id": "f608f783",
   "metadata": {},
   "outputs": [
    {
     "name": "stdout",
     "output_type": "stream",
     "text": [
      "Actual \t\t Predicted(k=1) \t\t Predictions\n",
      "virginica  \t\t virginica \t\t Yes\n",
      "virginica  \t\t virginica \t\t Yes\n",
      "versicolor \t\t versicolor \t\t Yes\n",
      "setosa     \t\t setosa \t\t Yes\n",
      "virginica  \t\t virginica \t\t Yes\n",
      "versicolor \t\t versicolor \t\t Yes\n",
      "setosa     \t\t setosa \t\t Yes\n",
      "virginica  \t\t virginica \t\t Yes\n",
      "setosa     \t\t setosa \t\t Yes\n",
      "versicolor \t\t versicolor \t\t Yes\n",
      "versicolor \t\t versicolor \t\t Yes\n",
      "setosa     \t\t setosa \t\t Yes\n",
      "virginica  \t\t virginica \t\t Yes\n",
      "setosa     \t\t setosa \t\t Yes\n",
      "setosa     \t\t setosa \t\t Yes\n",
      "virginica  \t\t versicolor \t\t No\n",
      "versicolor \t\t versicolor \t\t Yes\n",
      "versicolor \t\t versicolor \t\t Yes\n",
      "virginica  \t\t virginica \t\t Yes\n",
      "setosa     \t\t setosa \t\t Yes\n",
      "virginica  \t\t virginica \t\t Yes\n",
      "setosa     \t\t setosa \t\t Yes\n",
      "setosa     \t\t setosa \t\t Yes\n",
      "setosa     \t\t setosa \t\t Yes\n",
      "virginica  \t\t virginica \t\t Yes\n",
      "setosa     \t\t setosa \t\t Yes\n",
      "setosa     \t\t setosa \t\t Yes\n",
      "virginica  \t\t virginica \t\t Yes\n",
      "versicolor \t\t versicolor \t\t Yes\n",
      "versicolor \t\t versicolor \t\t Yes\n",
      "When k=5\n",
      "\n",
      "Actual \t\t Predicted(k=5) \t\t Predictions\n",
      "virginica  \t\t virginica \t\t Yes\n",
      "virginica  \t\t virginica \t\t Yes\n",
      "versicolor \t\t versicolor \t\t Yes\n",
      "setosa     \t\t setosa \t\t Yes\n",
      "virginica  \t\t virginica \t\t Yes\n",
      "versicolor \t\t versicolor \t\t Yes\n",
      "setosa     \t\t setosa \t\t Yes\n",
      "virginica  \t\t virginica \t\t Yes\n",
      "setosa     \t\t setosa \t\t Yes\n",
      "versicolor \t\t versicolor \t\t Yes\n",
      "versicolor \t\t versicolor \t\t Yes\n",
      "setosa     \t\t setosa \t\t Yes\n",
      "virginica  \t\t virginica \t\t Yes\n",
      "setosa     \t\t setosa \t\t Yes\n",
      "setosa     \t\t setosa \t\t Yes\n",
      "virginica  \t\t virginica \t\t No\n",
      "versicolor \t\t versicolor \t\t Yes\n",
      "versicolor \t\t versicolor \t\t Yes\n",
      "virginica  \t\t virginica \t\t Yes\n",
      "setosa     \t\t setosa \t\t Yes\n",
      "virginica  \t\t virginica \t\t Yes\n",
      "setosa     \t\t setosa \t\t Yes\n",
      "setosa     \t\t setosa \t\t Yes\n",
      "setosa     \t\t setosa \t\t Yes\n",
      "virginica  \t\t virginica \t\t Yes\n",
      "setosa     \t\t setosa \t\t Yes\n",
      "setosa     \t\t setosa \t\t Yes\n",
      "virginica  \t\t virginica \t\t Yes\n",
      "versicolor \t\t versicolor \t\t Yes\n",
      "versicolor \t\t versicolor \t\t Yes\n"
     ]
    }
   ],
   "source": [
    "actual = [labels[t] for t in y_test]\n",
    "predicted_k1 = [labels[t] for t in y_pred]\n",
    "predicted_k5 = [labels[t] for t in y_pred5]\n",
    "print(\"Actual \\t\\t Predicted(k=1) \\t\\t Predictions\")\n",
    "for i in range(len(actual)):\n",
    "    correct = 'No'\n",
    "    if(actual[i] == predicted_k1[i]):\n",
    "        correct = 'Yes'\n",
    "    print(f'{actual[i]:10s} \\t\\t {predicted_k1[i]} \\t\\t {correct}')\n",
    "\n",
    "print('When k=5\\n')\n",
    "print(\"Actual \\t\\t Predicted(k=5) \\t\\t Predictions\")\n",
    "for i in range(len(actual)):\n",
    "    correct = 'No'\n",
    "    if(actual[i] == predicted_k1[i]):\n",
    "        correct = 'Yes'\n",
    "    print(f'{actual[i]:10s} \\t\\t {predicted_k5[i]} \\t\\t {correct}')"
   ]
  },
  {
   "cell_type": "code",
   "execution_count": 5,
   "id": "682ca436",
   "metadata": {},
   "outputs": [
    {
     "name": "stdout",
     "output_type": "stream",
     "text": [
      "When k=1\n",
      "\n",
      "Confusion Matrix\n",
      " [[12  0  0]\n",
      " [ 0  8  0]\n",
      " [ 0  1  9]]\n",
      "Classification Report\n",
      "               precision    recall  f1-score   support\n",
      "\n",
      "           0       1.00      1.00      1.00        12\n",
      "           1       0.89      1.00      0.94         8\n",
      "           2       1.00      0.90      0.95        10\n",
      "\n",
      "    accuracy                           0.97        30\n",
      "   macro avg       0.96      0.97      0.96        30\n",
      "weighted avg       0.97      0.97      0.97        30\n",
      "\n"
     ]
    }
   ],
   "source": [
    "#checking our accuracy \n",
    "from sklearn.metrics import classification_report, confusion_matrix\n",
    "print('When k=1\\n')\n",
    "print('Confusion Matrix\\n', confusion_matrix(y_test, y_pred))\n",
    "print('Classification Report\\n', classification_report(y_test, y_pred))\n"
   ]
  },
  {
   "cell_type": "code",
   "execution_count": 6,
   "id": "95ee7568",
   "metadata": {},
   "outputs": [
    {
     "name": "stdout",
     "output_type": "stream",
     "text": [
      "When k=5\n",
      "\n",
      "Confusion Matrix\n",
      " [[12  0  0]\n",
      " [ 0  8  0]\n",
      " [ 0  0 10]]\n",
      "Classification Report\n",
      "               precision    recall  f1-score   support\n",
      "\n",
      "           0       1.00      1.00      1.00        12\n",
      "           1       1.00      1.00      1.00         8\n",
      "           2       1.00      1.00      1.00        10\n",
      "\n",
      "    accuracy                           1.00        30\n",
      "   macro avg       1.00      1.00      1.00        30\n",
      "weighted avg       1.00      1.00      1.00        30\n",
      "\n"
     ]
    }
   ],
   "source": [
    "print('When k=5\\n')\n",
    "print('Confusion Matrix\\n', confusion_matrix(y_test, y_pred5))\n",
    "print('Classification Report\\n', classification_report(y_test, y_pred5))"
   ]
  },
  {
   "cell_type": "code",
   "execution_count": 7,
   "id": "a54acb4a",
   "metadata": {},
   "outputs": [
    {
     "name": "stdout",
     "output_type": "stream",
     "text": [
      "When k=80\n",
      "\n",
      "Confusion Matrix\n",
      " [[ 8  4  0]\n",
      " [ 0  8  0]\n",
      " [ 0 10  0]]\n",
      "Classification Report\n",
      "               precision    recall  f1-score   support\n",
      "\n",
      "           0       1.00      0.67      0.80        12\n",
      "           1       0.36      1.00      0.53         8\n",
      "           2       0.00      0.00      0.00        10\n",
      "\n",
      "    accuracy                           0.53        30\n",
      "   macro avg       0.45      0.56      0.44        30\n",
      "weighted avg       0.50      0.53      0.46        30\n",
      "\n"
     ]
    },
    {
     "name": "stderr",
     "output_type": "stream",
     "text": [
      "C:\\Users\\Rishita\\anaconda3\\lib\\site-packages\\sklearn\\metrics\\_classification.py:1245: UndefinedMetricWarning: Precision and F-score are ill-defined and being set to 0.0 in labels with no predicted samples. Use `zero_division` parameter to control this behavior.\n",
      "  _warn_prf(average, modifier, msg_start, len(result))\n",
      "C:\\Users\\Rishita\\anaconda3\\lib\\site-packages\\sklearn\\metrics\\_classification.py:1245: UndefinedMetricWarning: Precision and F-score are ill-defined and being set to 0.0 in labels with no predicted samples. Use `zero_division` parameter to control this behavior.\n",
      "  _warn_prf(average, modifier, msg_start, len(result))\n",
      "C:\\Users\\Rishita\\anaconda3\\lib\\site-packages\\sklearn\\metrics\\_classification.py:1245: UndefinedMetricWarning: Precision and F-score are ill-defined and being set to 0.0 in labels with no predicted samples. Use `zero_division` parameter to control this behavior.\n",
      "  _warn_prf(average, modifier, msg_start, len(result))\n"
     ]
    }
   ],
   "source": [
    "print('When k=80\\n')\n",
    "print('Confusion Matrix\\n', confusion_matrix(y_test, y_pred80))\n",
    "print('Classification Report\\n', classification_report(y_test, y_pred80))"
   ]
  },
  {
   "cell_type": "code",
   "execution_count": null,
   "id": "ebe1dd43",
   "metadata": {},
   "outputs": [],
   "source": []
  }
 ],
 "metadata": {
  "kernelspec": {
   "display_name": "Python 3",
   "language": "python",
   "name": "python3"
  },
  "language_info": {
   "codemirror_mode": {
    "name": "ipython",
    "version": 3
   },
   "file_extension": ".py",
   "mimetype": "text/x-python",
   "name": "python",
   "nbconvert_exporter": "python",
   "pygments_lexer": "ipython3",
   "version": "3.9.6"
  }
 },
 "nbformat": 4,
 "nbformat_minor": 5
}
