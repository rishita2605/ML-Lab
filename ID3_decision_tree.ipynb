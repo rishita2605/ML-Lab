{
 "cells": [
  {
   "cell_type": "code",
   "execution_count": 53,
   "id": "ec47b879",
   "metadata": {},
   "outputs": [],
   "source": [
    "import pandas as pd\n",
    "df_tennis = pd.read_csv('PlayTennis.csv')\n",
    "#df_tennis=df_tennis[:11] #for checking accuracy\n"
   ]
  },
  {
   "cell_type": "code",
   "execution_count": 54,
   "id": "dbce1706",
   "metadata": {},
   "outputs": [
    {
     "name": "stdout",
     "output_type": "stream",
     "text": [
      "Counter({'Weak': 8, 'Strong': 6})\n",
      "foo\n"
     ]
    }
   ],
   "source": [
    "#Just for understanding\n",
    "from collections import Counter\n",
    "cnt = Counter(x for x in df_tennis['Wind'])# class of YES /NO\n",
    "print(cnt)\n",
    "#iter - returns an iterator object and next elements can be accessed using next()\n",
    "lst ={'foo','bar','baz'}\n",
    "print(next(iter(lst)))"
   ]
  },
  {
   "cell_type": "code",
   "execution_count": 55,
   "id": "1178fcee",
   "metadata": {},
   "outputs": [],
   "source": [
    "#Function to calculate the entropy of collection S\n",
    "import math\n",
    "def entropy(probs):  \n",
    "    return sum( [-prob*math.log(prob, 2) for prob in probs])\n",
    "\n",
    "def entropy_of_list(ls):  \n",
    "    from collections import Counter\n",
    "    class_count = Counter(x for x in ls)# Counter calculates the proportion of class\n",
    "    #print('Target attribute class count(Yes/No)=',dict(class_count))\n",
    "    total_instances = len(ls)  \n",
    "    probs = [x / total_instances for x in class_count.values()]  \n",
    "    #print(probs)\n",
    "    return entropy(probs) # Call Entropy"
   ]
  },
  {
   "cell_type": "code",
   "execution_count": 56,
   "id": "98e8f735",
   "metadata": {},
   "outputs": [],
   "source": [
    "def information_gain(df, split_attr,tg_attr):\n",
    "    df_split = df.groupby(split_attr) # group the data based on attribute values\n",
    "    nobs = len(df.index)\n",
    "\n",
    "    df_agg = df_split.agg({tg_attr:[entropy_of_list, \n",
    "                            lambda x: len(x)/nobs]})[tg_attr]\n",
    "      \n",
    "    df_agg.columns=['Entropy','Proportion']\n",
    "\n",
    "    # Calculate Information Gain:\n",
    "    new_entropy = sum( df_agg['Entropy'] * df_agg['Proportion'])\n",
    "    old_entropy = entropy_of_list(df[tg_attr])\n",
    "    return old_entropy - new_entropy"
   ]
  },
  {
   "cell_type": "code",
   "execution_count": 57,
   "id": "5ab7fc8b",
   "metadata": {},
   "outputs": [],
   "source": [
    "def id3(df, tg_attr, attr, default_class=None,default_attr='S'):\n",
    "    \n",
    "    from collections import Counter\n",
    "    pos_neg = Counter(x for x in df[tg_attr])# class of YES /NO\n",
    "    print(pos_neg,len(pos_neg))\n",
    "    if len(pos_neg) == 1: # return Yes or No.\n",
    "        #print('Return', next(iter(pos_neg)))\n",
    "        return next(iter(pos_neg))  \n",
    "    \n",
    "    elif df.empty or (not attr):\n",
    "        #print('Empty', default_class)\n",
    "        return default_class  # Return None for Empty Data Set\n",
    "    \n",
    "    else:\n",
    "        default_class = max(pos_neg.keys()) #No of YES and NO Class\n",
    "        print(f'default class {default_class}')\n",
    "        gains={}\n",
    "        print('On attribute ', default_attr, attr)\n",
    "        for a in attr:\n",
    "            gains[a] = information_gain(df, a, tg_attr)\n",
    "            print(f'Information gain of {a}:{gains[a]:0.4f}')\n",
    "        \n",
    "        #best attribute   \n",
    "        best_attr = max(gains, key=lambda x: gains[x])\n",
    "        print(\"\\nAttribute with the maximum gain is: \", best_attr)\n",
    "       \n",
    "        tree = {best_attr:{}} # Initiate the tree with best attribute as a node  \n",
    "        attr.remove(best_attr) #remove the best attribute\n",
    "      \n",
    "        for attr_val, data in df.groupby(best_attr):\n",
    "            subtree = id3(data,tg_attr, attr,default_class,best_attr)\n",
    "            tree[best_attr][attr_val] = subtree\n",
    "            print('best_attr, attr_val',best_attr, attr_val)\n",
    "            print('Tree',tree)\n",
    "        return tree"
   ]
  },
  {
   "cell_type": "code",
   "execution_count": 58,
   "id": "4f444def",
   "metadata": {},
   "outputs": [
    {
     "name": "stdout",
     "output_type": "stream",
     "text": [
      "List of Attributes: ['PlayTennis', 'Outlook', 'Temperature', 'Humidity', 'Wind']\n",
      "Predicting Attributes: ['Outlook', 'Temperature', 'Humidity', 'Wind']\n"
     ]
    }
   ],
   "source": [
    "# Get Predictor Names (all but 'class')\n",
    "attr = list(df_tennis.columns)\n",
    "print(\"List of Attributes:\", attr) \n",
    "attr.remove('PlayTennis') #Remove the class attribute \n",
    "print(\"Predicting Attributes:\", attr)"
   ]
  },
  {
   "cell_type": "code",
   "execution_count": 59,
   "id": "0d6ea631",
   "metadata": {},
   "outputs": [
    {
     "name": "stdout",
     "output_type": "stream",
     "text": [
      "Counter({'Yes': 9, 'No': 5}) 2\n",
      "default class Yes\n",
      "On attribute  S ['Outlook', 'Temperature', 'Humidity', 'Wind']\n",
      "Information gain of Outlook:0.2467\n",
      "Information gain of Temperature:0.0292\n",
      "Information gain of Humidity:0.1518\n",
      "Information gain of Wind:0.0481\n",
      "\n",
      "Attribute with the maximum gain is:  Outlook\n",
      "Counter({'Yes': 4}) 1\n",
      "best_attr, attr_val Outlook Overcast\n",
      "Tree {'Outlook': {'Overcast': 'Yes'}}\n",
      "Counter({'Yes': 3, 'No': 2}) 2\n",
      "default class Yes\n",
      "On attribute  Outlook ['Temperature', 'Humidity', 'Wind']\n",
      "Information gain of Temperature:0.0200\n",
      "Information gain of Humidity:0.0200\n",
      "Information gain of Wind:0.9710\n",
      "\n",
      "Attribute with the maximum gain is:  Wind\n",
      "Counter({'No': 2}) 1\n",
      "best_attr, attr_val Wind Strong\n",
      "Tree {'Wind': {'Strong': 'No'}}\n",
      "Counter({'Yes': 3}) 1\n",
      "best_attr, attr_val Wind Weak\n",
      "Tree {'Wind': {'Strong': 'No', 'Weak': 'Yes'}}\n",
      "best_attr, attr_val Outlook Rain\n",
      "Tree {'Outlook': {'Overcast': 'Yes', 'Rain': {'Wind': {'Strong': 'No', 'Weak': 'Yes'}}}}\n",
      "Counter({'No': 3, 'Yes': 2}) 2\n",
      "default class Yes\n",
      "On attribute  Outlook ['Temperature', 'Humidity']\n",
      "Information gain of Temperature:0.5710\n",
      "Information gain of Humidity:0.9710\n",
      "\n",
      "Attribute with the maximum gain is:  Humidity\n",
      "Counter({'No': 3}) 1\n",
      "best_attr, attr_val Humidity High\n",
      "Tree {'Humidity': {'High': 'No'}}\n",
      "Counter({'Yes': 2}) 1\n",
      "best_attr, attr_val Humidity Normal\n",
      "Tree {'Humidity': {'High': 'No', 'Normal': 'Yes'}}\n",
      "best_attr, attr_val Outlook Sunny\n",
      "Tree {'Outlook': {'Overcast': 'Yes', 'Rain': {'Wind': {'Strong': 'No', 'Weak': 'Yes'}}, 'Sunny': {'Humidity': {'High': 'No', 'Normal': 'Yes'}}}}\n",
      "\n",
      "\n",
      "The Resultant Decision Tree is :\n",
      "\n",
      "{'Outlook': {'Overcast': 'Yes',\n",
      "             'Rain': {'Wind': {'Strong': 'No', 'Weak': 'Yes'}},\n",
      "             'Sunny': {'Humidity': {'High': 'No', 'Normal': 'Yes'}}}}\n",
      "Best Attribute :\n",
      " Outlook\n",
      "Tree Keys:\n",
      " dict_keys(['Overcast', 'Rain', 'Sunny'])\n"
     ]
    }
   ],
   "source": [
    "from pprint import pprint\n",
    "tree = id3(df_tennis,'PlayTennis',attr)\n",
    "print(\"\\n\\nThe Resultant Decision Tree is :\\n\")\n",
    "pprint(tree)\n",
    "ba = next(iter(tree))\n",
    "print(\"Best Attribute :\\n\",ba)\n",
    "print(\"Tree Keys:\\n\",tree[ba].keys())"
   ]
  },
  {
   "cell_type": "code",
   "execution_count": 60,
   "id": "6ca142b6",
   "metadata": {},
   "outputs": [],
   "source": [
    "def classify(instance, tree,default=None): # Instance of Play Tennis with Predicted    \n",
    "    attribute = next(iter(tree)) # Outlook/Humidity/Wind       \n",
    "    if instance[attribute] in tree[attribute].keys(): # Value of the attributs in  set of Tree keys  \n",
    "        result = tree[attribute][instance[attribute]]\n",
    "        if isinstance(result, dict): # this is a tree, delve deeper\n",
    "            return classify(instance, result)\n",
    "        else:\n",
    "            return result # this is a label\n",
    "    else:\n",
    "        return default"
   ]
  },
  {
   "cell_type": "code",
   "execution_count": 61,
   "id": "6049214b",
   "metadata": {},
   "outputs": [
    {
     "name": "stdout",
     "output_type": "stream",
     "text": [
      "   PlayTennis   Outlook Temperature Humidity    Wind predicted\n",
      "11        Yes  Overcast        Mild     High  Strong       Yes\n",
      "12        Yes  Overcast         Hot   Normal    Weak       Yes\n",
      "13         No      Rain        Mild     High  Strong        No\n"
     ]
    }
   ],
   "source": [
    "\n",
    "df_new=pd.read_csv('PlayTennis.csv')\n",
    "df_new=df_new[11:]\n",
    "df_new['predicted'] = df_new.apply(classify, axis=1, args=(tree,'?')) \n",
    "print(df_new)"
   ]
  },
  {
   "cell_type": "code",
   "execution_count": null,
   "id": "8a8983c8",
   "metadata": {},
   "outputs": [],
   "source": []
  }
 ],
 "metadata": {
  "kernelspec": {
   "display_name": "Python 3",
   "language": "python",
   "name": "python3"
  },
  "language_info": {
   "codemirror_mode": {
    "name": "ipython",
    "version": 3
   },
   "file_extension": ".py",
   "mimetype": "text/x-python",
   "name": "python",
   "nbconvert_exporter": "python",
   "pygments_lexer": "ipython3",
   "version": "3.8.8"
  }
 },
 "nbformat": 4,
 "nbformat_minor": 5
}
