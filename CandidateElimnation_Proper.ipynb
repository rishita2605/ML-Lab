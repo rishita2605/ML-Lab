{
 "cells": [
  {
   "cell_type": "markdown",
   "metadata": {},
   "source": [
    "<h1> Candidate Elimination </h1>\n",
    "<pre>\n",
    "Initialize G to the set of maximally general hypotheses in H\n",
    "Initial S to the set of maximally specific hypotheses in H\n",
    "</pre>\n",
    "<pre>\n",
    "If d is a positive example {\n",
    "    Remove from G any hypothesis inconsistent with d\n",
    "    For each hypothesis s in S that is not consistent with d{\n",
    "        Remove s from S\n",
    "        Add to S all minimal generalizations h of such that{\n",
    "            h is consistent with d, and some member of G is more general than h\n",
    "        }\n",
    "        Remove from S any hypothesis that is more general than another hypothesis in S\n",
    "    }\n",
    "}\n",
    "</pre> \n",
    "<pre>\n",
    "If d is a negative example {\n",
    "    Remove from S any hypothesis inconsistent with d\n",
    "    For each hypothesis g in G that is not consistent with d{\n",
    "        Remove g from G\n",
    "        Add to G all minimal specializations h of g such that {\n",
    "            h is consistent with d and some member of S is more specific than h\n",
    "        }\n",
    "        Remove from G any hypothesis that is less general than another hypothesis in G.\n",
    "    }\n",
    "}\n",
    "</pre>"
   ]
  },
  {
   "cell_type": "markdown",
   "metadata": {},
   "source": [
    "<b>with</b> is used for resource management and exception handling"
   ]
  },
  {
   "cell_type": "code",
   "execution_count": 1,
   "metadata": {},
   "outputs": [
    {
     "data": {
      "text/plain": [
       "[('Sunny', 'Warm', 'Normal', 'Strong', 'Warm', 'Same', 'Y'),\n",
       " ('Sunny', 'Warm', 'High', 'Strong', 'Warm', 'Same', 'Y'),\n",
       " ('Rainy', 'Cold', 'High', 'Strong', 'Warm', 'Change', 'N'),\n",
       " ('Sunny', 'Warm', 'High', 'Strong', 'Cool', 'Change', 'Y')]"
      ]
     },
     "execution_count": 1,
     "metadata": {},
     "output_type": "execute_result"
    }
   ],
   "source": [
    "#dataset \n",
    "import csv\n",
    "\n",
    "with open('enjoySport.csv')  as csvFile:\n",
    "        examples = [tuple(line)[1:] for line in csv.reader(csvFile)] # this [1:] is to remove the indices of rows, 0, 1, 2, .. \n",
    "examples=examples[1:] #examples[start:end:step] this [1:] is to remove the heading -> Sky, AirTemp, Humidity, Wind, etc. \n",
    "examples"
   ]
  },
  {
   "cell_type": "code",
   "execution_count": 2,
   "metadata": {},
   "outputs": [
    {
     "name": "stdout",
     "output_type": "stream",
     "text": [
      "[{'Sunny', 'Rainy'}, {'Cold', 'Warm'}, {'High', 'Normal'}, {'Strong'}, {'Cool', 'Warm'}, {'Same', 'Change'}, {'Y', 'N'}]\n"
     ]
    },
    {
     "data": {
      "text/plain": [
       "[['Rainy', 'Sunny'],\n",
       " ['Cold', 'Warm'],\n",
       " ['High', 'Normal'],\n",
       " ['Strong'],\n",
       " ['Cool', 'Warm'],\n",
       " ['Change', 'Same'],\n",
       " ['N', 'Y']]"
      ]
     },
     "execution_count": 2,
     "metadata": {},
     "output_type": "execute_result"
    }
   ],
   "source": [
    "#getting all the existing domains \n",
    "def get_domains(examples):\n",
    "    d = [set() for i in examples[0]] # set so as to not repeat the domains(values) d -> list of sets \n",
    "    for x in examples:\n",
    "        for i, xi in enumerate(x):\n",
    "            d[i].add(xi)\n",
    "    print(d)\n",
    "    return [list(sorted(x)) for x in d] # sorting alphabetically - list of list(2D)\n",
    "\n",
    "get_domains(examples)"
   ]
  },
  {
   "cell_type": "code",
   "execution_count": 3,
   "metadata": {},
   "outputs": [],
   "source": [
    "def g_0(n):\n",
    "    return (\"?\",)*n # tuple('?')*n\n",
    "\n",
    "def s_0(n):\n",
    "    return ('0',)*n"
   ]
  },
  {
   "cell_type": "code",
   "execution_count": 4,
   "metadata": {},
   "outputs": [
    {
     "name": "stdout",
     "output_type": "stream",
     "text": [
      "True\n"
     ]
    }
   ],
   "source": [
    "#checking if h1 is more general than h2\n",
    "def more_general(h1, h2):\n",
    "    # h1 - hyp h2 - ex\n",
    "    hyp_satisfied = []\n",
    "    for h, x in zip(h1, h2):\n",
    "        mg = h == \"?\" or (h != \"0\" and (h == x or x == \"0\")) \n",
    "        # if ?(most generic) it'll def satisfy; if not 0(not most specific it is fine) and if the value is equal to the value in the example, it is cool\n",
    "        # else false(does not satisfy)\n",
    "        hyp_satisfied.append(mg)\n",
    "    # print(hyp_satisfied)\n",
    "    return all(hyp_satisfied)\n",
    "\n",
    "print(more_general(['?', '?', '?', '?', '?', '?'], ['Sunny', 'Warm', 'Normal', 'Strong', 'Warm', 'Same']))\n",
    "\n",
    "# min_generalizations\n",
    "def fulfills(example, hypothesis):\n",
    "    # hypothesis -> g or s\n",
    "    ### the implementation is the same as for hypotheses:\n",
    "    return more_general(hypothesis, example)"
   ]
  },
  {
   "cell_type": "code",
   "execution_count": 5,
   "metadata": {},
   "outputs": [
    {
     "data": {
      "text/plain": [
       "[('rainy', 'windy', '?')]"
      ]
     },
     "execution_count": 5,
     "metadata": {},
     "output_type": "execute_result"
    }
   ],
   "source": [
    "def min_generalizations(h, x): # h -> s \n",
    "    h_new = list(h)\n",
    "    for i in range(len(h)):\n",
    "        # h[i:i+1] so that result remains tuple instead of str -> because we need to do the zip thing in fulfils \n",
    "        if not fulfills(x[i:i+1], h[i:i+1]): \n",
    "            h_new[i] = '?' if h[i] != '0' else x[i] # if h[i]=0 then assign the example value, else if it is not 0 i.e. it is some value, assign it ? \n",
    "            # print('h new',h_new)\n",
    "    return [tuple(h_new)]\n",
    "\n",
    "min_generalizations(h=('0', '0'  , 'sunny'), \n",
    "                    x=('rainy', 'windy', 'cloudy'))"
   ]
  },
  {
   "cell_type": "code",
   "execution_count": 6,
   "metadata": {},
   "outputs": [
    {
     "name": "stdout",
     "output_type": "stream",
     "text": [
      "g ->  ('?', '?')\n",
      "() a ('?',) ('a', '?')\n",
      "() c ('?',) ('c', '?')\n",
      "('?',) y () ('?', 'y')\n"
     ]
    },
    {
     "data": {
      "text/plain": [
       "[('a', '?'), ('c', '?'), ('?', 'y')]"
      ]
     },
     "execution_count": 6,
     "metadata": {},
     "output_type": "execute_result"
    }
   ],
   "source": [
    "def min_specializations(h, domains, x):\n",
    "    # h -> g\n",
    "    results = []\n",
    "    print('g -> ',h)\n",
    "    for i in range(len(h)):\n",
    "        if h[i] == \"?\":\n",
    "            for val in domains[i]:\n",
    "                if x[i] != val: # -ve ex ka value is not equal to the value(domain)\n",
    "                    h_new = h[:i] + (val,) + h[i+1:] # v.imp to convert it into tuple lyk dis; (val,)\n",
    "                    print(h[:i], val, h[i+1:], h_new)\n",
    "                    results.append(h_new)\n",
    "        elif h[i] != \"0\":\n",
    "            h_new = h[:i] + tuple('0') + h[i+1:]\n",
    "            results.append(h_new)\n",
    "    return results\n",
    "\n",
    "min_specializations(h=('?', '?',), \n",
    "                    domains=[['a', 'b', 'c'], ['x', 'y']], \n",
    "                    x=('b', 'x'))"
   ]
  },
  {
   "cell_type": "code",
   "execution_count": 7,
   "metadata": {},
   "outputs": [
    {
     "name": "stdout",
     "output_type": "stream",
     "text": [
      "s plus [('?', 'Warm', 'High', 'Strong', 'Warm', 'Same')] {('?', '?', '?', '?', '?', 'Change'), ('?', 'Warm', '?', '?', '?', '?')}\n",
      "{('?', 'Warm', 'High', 'Strong', 'Warm', 'Same')}\n"
     ]
    }
   ],
   "source": [
    "def generalize_S(x, G, S):\n",
    "    S_prev = list(S) # simply to iterate properly over all the elems, \n",
    "    for s in S_prev:\n",
    "        if s not in S:\n",
    "            continue\n",
    "        if not fulfills(x, s):\n",
    "            S.remove(s)\n",
    "            Splus = min_generalizations(s, x)\n",
    "            print('s plus', Splus, G)\n",
    "            # keep only generalizations that have a counterpart in G\n",
    "            S.update(h for h in Splus if any([more_general(g, h) for g in G])) #comparing S & G; and G should be more general than S\n",
    "            # remove hypotheses less specific than any other in S\n",
    "            S.difference_update([h for h in S if any([more_general(h, h1) for h1 in S if h != h1])]) \n",
    "            # we'll never reach here fyi - comparing S & S to check if any hyp in S is more general than the other\n",
    "\n",
    "    return S\n",
    "print(generalize_S(['Sunny', 'Warm', 'High', 'Strong', 'Warm', 'Same'], {('?', 'Warm', '?', '?', '?', '?'), ('?', '?', '?', '?', '?', 'Change')}, {('Rainy', '0', '0', '0', '0', '0')}))"
   ]
  },
  {
   "cell_type": "code",
   "execution_count": 8,
   "metadata": {},
   "outputs": [
    {
     "name": "stdout",
     "output_type": "stream",
     "text": [
      "[{'Sunny', 'Rainy'}, {'Cold', 'Warm'}, {'High', 'Normal'}, {'Strong'}, {'Cool', 'Warm'}, {'Same', 'Change'}, {'Y', 'N'}]\n",
      "g ->  ('?', 'Warm', '?', '?', '?', '?')\n",
      "() Rainy ('Warm', '?', '?', '?', '?') ('Rainy', 'Warm', '?', '?', '?', '?')\n",
      "('?', 'Warm') Normal ('?', '?', '?') ('?', 'Warm', 'Normal', '?', '?', '?')\n",
      "('?', 'Warm', '?', '?') Cool ('?',) ('?', 'Warm', '?', '?', 'Cool', '?')\n",
      "('?', 'Warm', '?', '?', '?') Change () ('?', 'Warm', '?', '?', '?', 'Change')\n",
      "{('?', 'Warm', '?', '?', 'Cool', '?'), ('Rainy', 'Warm', '?', '?', '?', '?'), ('?', 'Warm', 'Normal', '?', '?', '?'), ('?', '?', '?', '?', '?', 'Change')}\n"
     ]
    }
   ],
   "source": [
    "def specialize_G(x, domains, G, S):\n",
    "    G_prev = list(G)\n",
    "    for g in G_prev:\n",
    "        if g not in G:  \n",
    "            continue\n",
    "        if fulfills(x, g):\n",
    "            G.remove(g)\n",
    "            Gminus = min_specializations(g, domains, x)\n",
    "            ## keep only specializations that have a conuterpart in S\n",
    "            G.update([h for h in Gminus if any([more_general(h, s) for s in S])])\n",
    "            ## remove hypotheses less general than any other in G\n",
    "            G.difference_update([h for h in G if any([more_general(g1, h) for g1 in G if h != g1])])\n",
    "            # for h in G:\n",
    "            #     if(any([more_general(g1, h) for g1 in G if h!=g1])):\n",
    "            #         print('huh',h)\n",
    "    return G\n",
    "print(specialize_G(['Sunny', 'Warm', 'High', 'Strong', 'Warm', 'Same'],get_domains(examples)[:-1], {('?', 'Warm', '?', '?', '?', '?'), ('?', '?', '?', '?', '?', 'Change'), ('?', 'Warm', '?', '?', '?', 'Change')}, {('Rainy', '0', '0', '0', '0', '0')}))"
   ]
  },
  {
   "cell_type": "code",
   "execution_count": 9,
   "metadata": {},
   "outputs": [
    {
     "name": "stdout",
     "output_type": "stream",
     "text": [
      "[{'Sunny', 'Rainy'}, {'Cold', 'Warm'}, {'High', 'Normal'}, {'Strong'}, {'Cool', 'Warm'}, {'Same', 'Change'}, {'Y', 'N'}]\n",
      "\n",
      " S[0]: {('0', '0', '0', '0', '0', '0')}\n",
      " G[0]: {('?', '?', '?', '?', '?', '?')}\n",
      "s plus [('Sunny', 'Warm', 'Normal', 'Strong', 'Warm', 'Same')] {('?', '?', '?', '?', '?', '?')}\n",
      "\n",
      " S[1]: {('Sunny', 'Warm', 'Normal', 'Strong', 'Warm', 'Same')}\n",
      " G[1]: {('?', '?', '?', '?', '?', '?')}\n",
      "s plus [('Sunny', 'Warm', '?', 'Strong', 'Warm', 'Same')] {('?', '?', '?', '?', '?', '?')}\n",
      "\n",
      " S[2]: {('Sunny', 'Warm', '?', 'Strong', 'Warm', 'Same')}\n",
      " G[2]: {('?', '?', '?', '?', '?', '?')}\n",
      "g ->  ('?', '?', '?', '?', '?', '?')\n",
      "() Sunny ('?', '?', '?', '?', '?') ('Sunny', '?', '?', '?', '?', '?')\n",
      "('?',) Warm ('?', '?', '?', '?') ('?', 'Warm', '?', '?', '?', '?')\n",
      "('?', '?') Normal ('?', '?', '?') ('?', '?', 'Normal', '?', '?', '?')\n",
      "('?', '?', '?', '?') Cool ('?',) ('?', '?', '?', '?', 'Cool', '?')\n",
      "('?', '?', '?', '?', '?') Same () ('?', '?', '?', '?', '?', 'Same')\n",
      "\n",
      " S[3]: {('Sunny', 'Warm', '?', 'Strong', 'Warm', 'Same')}\n",
      " G[3]: {('?', '?', '?', '?', '?', 'Same'), ('Sunny', '?', '?', '?', '?', '?'), ('?', 'Warm', '?', '?', '?', '?')}\n",
      "s plus [('Sunny', 'Warm', '?', 'Strong', '?', '?')] {('Sunny', '?', '?', '?', '?', '?'), ('?', 'Warm', '?', '?', '?', '?')}\n",
      "\n",
      " S[4]: {('Sunny', 'Warm', '?', 'Strong', '?', '?')}\n",
      " G[4]: {('Sunny', '?', '?', '?', '?', '?'), ('?', 'Warm', '?', '?', '?', '?')}\n"
     ]
    }
   ],
   "source": [
    "#candidate elimination\n",
    "domains = get_domains(examples)[:-1] # except for label(Y or N)\n",
    "\n",
    "G = set([g_0(len(domains))])\n",
    "S = set([s_0(len(domains))])\n",
    "i=0\n",
    "print(f'\\n S[{i}]: {S}')\n",
    "print(f' G[{i}]: {G}')\n",
    "\n",
    "\n",
    "for xcx in examples:\n",
    "    i=i+1\n",
    "    xcx=list(xcx)\n",
    "    x, cx = xcx[:-1], xcx[-1]  # Splitting data into attributes and decisions(Y or N)\n",
    "    if cx=='Y': # x is positive example\n",
    "        G = {g for g in G if fulfills(x, g)}\n",
    "        S = generalize_S(x, G, S)\n",
    "    else: # x is negative example\n",
    "        S = {s for s in S if not fulfills(x, s)}\n",
    "        G = specialize_G(x, domains, G, S)\n",
    "    print(f'\\n S[{i}]: {S}')\n",
    "    print(f' G[{i}]: {G}')"
   ]
  }
 ],
 "metadata": {
  "interpreter": {
   "hash": "171ef77c600712421402a5338eca9e35ba809d2803a8fd1940cf4c7eec5cd8a9"
  },
  "kernelspec": {
   "display_name": "Python 3.8.8 ('base')",
   "language": "python",
   "name": "python3"
  },
  "language_info": {
   "codemirror_mode": {
    "name": "ipython",
    "version": 3
   },
   "file_extension": ".py",
   "mimetype": "text/x-python",
   "name": "python",
   "nbconvert_exporter": "python",
   "pygments_lexer": "ipython3",
   "version": "3.8.8"
  },
  "orig_nbformat": 4
 },
 "nbformat": 4,
 "nbformat_minor": 2
}
