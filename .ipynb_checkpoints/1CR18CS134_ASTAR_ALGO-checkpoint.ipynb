{
 "cells": [
  {
   "cell_type": "code",
   "execution_count": 1,
   "id": "8962dc81",
   "metadata": {},
   "outputs": [],
   "source": [
    "class Node:\n",
    "    def __init__(self, value, coord):\n",
    "        self.value = value\n",
    "        self.coord = coord\n",
    "        self.g = 0; self.h =0; #initialization\n",
    "        self.parent = None\n",
    "        \n",
    "    def __str__(self):\n",
    "        s = f'{self.coord} f= {self.g + self.h:0.2f} g={self.g:0.2f} h={self.h:0.2f}' #string formatting for a\n",
    "        return s\n",
    "    \n",
    "    def move_cost(self, other):\n",
    "        return 1"
   ]
  },
  {
   "cell_type": "code",
   "execution_count": 2,
   "id": "2e24c584",
   "metadata": {},
   "outputs": [],
   "source": [
    "#use case-1\n",
    "grid = [[1,1,1,1], #1- not blocked, 0-blocked\n",
    "       [1,1,1,1,],\n",
    "       [1,1,1,1],\n",
    "       [1,1,0,0],\n",
    "       [1,1,0,1]]\n",
    "#converting all points to node object\n",
    "for x in range(len(grid)):\n",
    "    for y in range(len(grid[x])):\n",
    "        grid[x][y] = Node(grid[x][y], (x,y))\n",
    "        \n",
    "start = grid[4][0]\n",
    "goal = grid[0][3]\n",
    "        "
   ]
  },
  {
   "cell_type": "code",
   "execution_count": 3,
   "id": "fb9cef54",
   "metadata": {},
   "outputs": [],
   "source": [
    "def children(current_node, grid):\n",
    "    x,y = current_node.coord\n",
    "    links = [(x-1, y), (x, y-1), (x, y+1), (x+1, y)]\n",
    "    #for diagonal movements: (x+1, y+1), (x-1, y-1), (x+1, y-1), (x-1, y+1)\n",
    "    valid_links = [link for row in grid for link in row if link.value!=0] #if the path is not blocked\n",
    "    valid_children = [link for link in valid_links if link.coord in links] #checking/storing valid adjacent coordinates\n",
    "    return valid_children"
   ]
  },
  {
   "cell_type": "code",
   "execution_count": 4,
   "id": "1b9c0527",
   "metadata": {},
   "outputs": [],
   "source": [
    "#4 moves\n",
    "def manhattan(node, goal):\n",
    "    xN, yN = node.coord\n",
    "    xG, yG = goal.coord\n",
    "    h = abs(xN-xG) + abs(yN-yG)\n",
    "    return h"
   ]
  },
  {
   "cell_type": "code",
   "execution_count": 5,
   "id": "506892bc",
   "metadata": {},
   "outputs": [],
   "source": [
    "#8 moves\n"
   ]
  },
  {
   "cell_type": "code",
   "execution_count": 6,
   "id": "e7131167",
   "metadata": {},
   "outputs": [],
   "source": [
    "#def astar\n",
    "\n",
    "def astar(start, goal, grid):\n",
    "    OPEN = list(); CLOSED = list() #open and closed lists\n",
    "    current = start #set current node to start node\n",
    "    OPEN.append(current) #add start to open list\n",
    "    i=0 #for tracking purpose\n",
    "    \n",
    "    while OPEN: #while OPEN list is not empty\n",
    "        print('Iteration', i)\n",
    "        i+=1\n",
    "        #find item in OPEN with lowest g+h score\n",
    "        current = min(OPEN, key=lambda o:o.g + o.h)\n",
    "        print('Current node', current)\n",
    "        \n",
    "        #if it is the item we want, retrace the path and return it\n",
    "        if current == goal: #trace path by using parent link\n",
    "            path = []\n",
    "            while current.parent:\n",
    "                path.append(current)\n",
    "                current = current.parent\n",
    "            path.append(current)\n",
    "            return path[::-1]\n",
    "        \n",
    "        #move item from open to closed\n",
    "        OPEN.remove(current); CLOSED.append(current)\n",
    "        \n",
    "        #loop through the node's children/siblings\n",
    "        for node in children(current, grid):\n",
    "            #if it is already in CLOSED and updated cost is lower, move to OPEN\n",
    "            if node in CLOSED:\n",
    "                new_cost = current.g + current.move_cost(node)\n",
    "                if new_cost <= node.g:\n",
    "                    OPEN.append(node); CLOSED.remove(node)\n",
    "                #otherwise it is already in OPEN\n",
    "            elif node in OPEN:\n",
    "                new_cost = current.g + current.move_cost(node)\n",
    "                if new_cost <= node.g:\n",
    "                    #if so, update the node to have a new parent\n",
    "                    node.g = new_cost\n",
    "                    node.parent = current\n",
    "            else:\n",
    "                    #if it isn't in the open set, calculate the g and h score for the node\n",
    "                node.g = current.g + current.move_cost(node)\n",
    "                node.h = manhattan(node, goal)\n",
    "                    #set the parent to our current item\n",
    "                node.parent = current\n",
    "                    #add it to the list\n",
    "                OPEN.append(node)\n",
    "    #if no path found\n",
    "    return None"
   ]
  },
  {
   "cell_type": "code",
   "execution_count": 7,
   "id": "99b6f0ef",
   "metadata": {},
   "outputs": [
    {
     "name": "stdout",
     "output_type": "stream",
     "text": [
      "Iteration 0\n",
      "Current node (4, 0) f= 0.00 g=0.00 h=0.00\n",
      "Iteration 1\n",
      "Current node (3, 0) f= 7.00 g=1.00 h=6.00\n",
      "Iteration 2\n",
      "Current node (4, 1) f= 7.00 g=1.00 h=6.00\n",
      "Iteration 3\n",
      "Current node (2, 0) f= 7.00 g=2.00 h=5.00\n",
      "Iteration 4\n",
      "Current node (3, 1) f= 7.00 g=2.00 h=5.00\n",
      "Iteration 5\n",
      "Current node (1, 0) f= 7.00 g=3.00 h=4.00\n",
      "Iteration 6\n",
      "Current node (2, 1) f= 7.00 g=3.00 h=4.00\n",
      "Iteration 7\n",
      "Current node (0, 0) f= 7.00 g=4.00 h=3.00\n",
      "Iteration 8\n",
      "Current node (1, 1) f= 7.00 g=4.00 h=3.00\n",
      "Iteration 9\n",
      "Current node (2, 2) f= 7.00 g=4.00 h=3.00\n",
      "Iteration 10\n",
      "Current node (0, 1) f= 7.00 g=5.00 h=2.00\n",
      "Iteration 11\n",
      "Current node (1, 2) f= 7.00 g=5.00 h=2.00\n",
      "Iteration 12\n",
      "Current node (2, 3) f= 7.00 g=5.00 h=2.00\n",
      "Iteration 13\n",
      "Current node (0, 2) f= 7.00 g=6.00 h=1.00\n",
      "Iteration 14\n",
      "Current node (1, 3) f= 7.00 g=6.00 h=1.00\n",
      "Iteration 15\n",
      "Current node (0, 3) f= 7.00 g=7.00 h=0.00\n",
      "** path **\n",
      "(4, 0) (4, 1) (3, 1) (2, 1) (2, 2) (2, 3) (1, 3) (0, 3) "
     ]
    }
   ],
   "source": [
    "#driver code\n",
    "path = astar(start, goal, grid)\n",
    "if path:\n",
    "    print(\"** path **\")\n",
    "    for p in path:\n",
    "        print(p.coord, end=\" \")\n",
    "else:\n",
    "    print(\"No path found\")"
   ]
  },
  {
   "cell_type": "code",
   "execution_count": 8,
   "id": "53a6820a",
   "metadata": {},
   "outputs": [
    {
     "data": {
      "image/png": "[encoded data removed]",
      "text/plain": [
       "<Figure size 432x288 with 2 Axes>"
      ]
     },
     "metadata": {
      "needs_background": "light"
     },
     "output_type": "display_data"
    }
   ],
   "source": [
    "import seaborn as sns\n",
    "f_vals =[]\n",
    "for row in grid:\n",
    "    vals=[]\n",
    "    for col in row:\n",
    "        vals.append(col.g + col.h)\n",
    "    f_vals.append(vals)\n",
    "    \n",
    "ax = sns.heatmap(f_vals, annot = True, fmt=\"d\")\n"
   ]
  },
  {
   "cell_type": "code",
   "execution_count": 9,
   "id": "483cff63",
   "metadata": {},
   "outputs": [
    {
     "name": "stdout",
     "output_type": "stream",
     "text": [
      "**PATH**\n"
     ]
    },
    {
     "data": {
      "image/png": "[encoded data removed]",
      "text/plain": [
       "<Figure size 432x288 with 1 Axes>"
      ]
     },
     "metadata": {
      "needs_background": "light"
     },
     "output_type": "display_data"
    }
   ],
   "source": [
    "import matplotlib.pyplot as plt\n",
    "import numpy as np\n",
    "a=[]\n",
    "plt.gca().invert_yaxis()\n",
    "if path:\n",
    "    print('**PATH**')\n",
    "    for p in path:\n",
    "        a.append(p.coord[::-1])\n",
    "    plt.plot(*zip(*a))\n",
    "    plt.show()"
   ]
  }
 ],
 "metadata": {
  "interpreter": {
   "hash": "67c5282be14de62632093de92d89477a488b37a8c180f59635e4453325c46ae2"
  },
  "kernelspec": {
   "display_name": "Python 3",
   "language": "python",
   "name": "python3"
  },
  "language_info": {
   "codemirror_mode": {
    "name": "ipython",
    "version": 3
   },
   "file_extension": ".py",
   "mimetype": "text/x-python",
   "name": "python",
   "nbconvert_exporter": "python",
   "pygments_lexer": "ipython3",
   "version": "3.8.8"
  }
 },
 "nbformat": 4,
 "nbformat_minor": 5
}
